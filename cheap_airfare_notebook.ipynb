{
 "cells": [
  {
   "cell_type": "code",
   "execution_count": 1,
   "metadata": {},
   "outputs": [],
   "source": [
    "import pandas as pd\n",
    "import numpy as np\n",
    "from selenium import webdriver\n",
    "from selenium.webdriver.common.desired_capabilities import DesiredCapabilities\n",
    "from bs4 import BeautifulSoup\n",
    "import matplotlib.pyplot as plt\n",
    "%matplotlib inline"
   ]
  },
  {
   "cell_type": "code",
   "execution_count": 4,
   "metadata": {},
   "outputs": [
    {
     "name": "stderr",
     "output_type": "stream",
     "text": [
      "//anaconda/lib/python3.5/site-packages/selenium/webdriver/phantomjs/webdriver.py:49: UserWarning: Selenium support for PhantomJS has been deprecated, please use headless versions of Chrome or Firefox instead\n",
      "  warnings.warn('Selenium support for PhantomJS has been deprecated, please use headless '\n",
      "//anaconda/lib/python3.5/site-packages/selenium/webdriver/phantomjs/webdriver.py:49: UserWarning: Selenium support for PhantomJS has been deprecated, please use headless versions of Chrome or Firefox instead\n",
      "  warnings.warn('Selenium support for PhantomJS has been deprecated, please use headless '\n"
     ]
    }
   ],
   "source": [
    "url ='https://www.google.com/flights/explore/#explore;f=JFK,EWR,LGA;t=r-Europe-0x46ed8886cfadda85%253A0x72ef99e6b3fcf079;li=3;lx=5;d=2018-01-13'\n",
    "driver = webdriver.PhantomJS()\n",
    "dcap = dict(DesiredCapabilities.PHANTOMJS)\n",
    "dcap[\"phantomjs.page.settings.userAgent\"] = (\"Mozilla/5.0 (Macintosh; Intel Mac OS X 10_12_6) AppleWebKit/537.36 (KHTML, like Gecko) Chrome/63.0.3239.84 Safari/537.36\")\n",
    "driver = webdriver.PhantomJS(desired_capabilities=dcap,service_args=['--ignore-ssl-errors=true'])\n",
    "driver.implicitly_wait(20)\n",
    "driver.get(url)"
   ]
  },
  {
   "cell_type": "code",
   "execution_count": 5,
   "metadata": {},
   "outputs": [
    {
     "data": {
      "text/plain": [
       "True"
      ]
     },
     "execution_count": 5,
     "metadata": {},
     "output_type": "execute_result"
    }
   ],
   "source": [
    "driver.save_screenshot(r'flight_explorer.png')"
   ]
  },
  {
   "cell_type": "code",
   "execution_count": 7,
   "metadata": {},
   "outputs": [],
   "source": [
    "s = BeautifulSoup(driver.page_source, 'lxml')"
   ]
  },
  {
   "cell_type": "code",
   "execution_count": 15,
   "metadata": {},
   "outputs": [],
   "source": [
    "best_price_tags = s.findAll('div', 'CTPFVNB-w-e')\n",
    "best_prices = []\n",
    "for tag in best_price_tags:\n",
    "    best_prices.append(int(tag.text.replace('$','').replace(',','')))"
   ]
  },
  {
   "cell_type": "code",
   "execution_count": 18,
   "metadata": {},
   "outputs": [
    {
     "data": {
      "text/plain": [
       "[<div class=\"CTPFVNB-w-e\" style=\"top: 52.73721943048576px;\">$300</div>,\n",
       " <div class=\"CTPFVNB-w-e\" style=\"top: 55.551998223096575px;\">$300</div>,\n",
       " <div class=\"CTPFVNB-w-e\" style=\"top: 54.80475278131088px;\">$300</div>,\n",
       " <div class=\"CTPFVNB-w-e\" style=\"top: 52.46010338266741px;\">$300</div>,\n",
       " <div class=\"CTPFVNB-w-e\" style=\"top: 49.29502684799518px;\">$320</div>,\n",
       " <div class=\"CTPFVNB-w-e\" style=\"top: 53.09725341671437px;\">$340</div>,\n",
       " <div class=\"CTPFVNB-w-e\" style=\"top: 39.87544954128441px;\">$340</div>,\n",
       " <div class=\"CTPFVNB-w-e\" style=\"top: 22.42712490906588px;\">$401</div>,\n",
       " <div class=\"CTPFVNB-w-e\" style=\"top: 39.02392453115738px;\">$501</div>,\n",
       " <div class=\"CTPFVNB-w-e\" style=\"top: 24.70862116011547px;\">$534</div>]"
      ]
     },
     "execution_count": 18,
     "metadata": {},
     "output_type": "execute_result"
    }
   ],
   "source": [
    "best_price_tags"
   ]
  },
  {
   "cell_type": "code",
   "execution_count": 19,
   "metadata": {},
   "outputs": [
    {
     "data": {
      "text/plain": [
       "300"
      ]
     },
     "execution_count": 19,
     "metadata": {},
     "output_type": "execute_result"
    }
   ],
   "source": [
    "best_price = best_prices[0]\n",
    "best_price"
   ]
  },
  {
   "cell_type": "code",
   "execution_count": 20,
   "metadata": {},
   "outputs": [
    {
     "data": {
      "text/plain": [
       "53.26278056951424"
      ]
     },
     "execution_count": 20,
     "metadata": {},
     "output_type": "execute_result"
    }
   ],
   "source": [
    "best_height_tags = s.findAll('div', 'CTPFVNB-w-f')\n",
    "best_heights = []\n",
    "for t in best_height_tags:\n",
    "    best_heights.append(float(t.attrs['style']\\\n",
    "          .split('height:')[1].replace('px;','')))\n",
    "\n",
    "best_height = best_heights[0]\n",
    "best_height"
   ]
  },
  {
   "cell_type": "code",
   "execution_count": 21,
   "metadata": {},
   "outputs": [
    {
     "data": {
      "text/plain": [
       "5.6324509684293416"
      ]
     },
     "execution_count": 21,
     "metadata": {},
     "output_type": "execute_result"
    }
   ],
   "source": [
    "pph = np.array(best_price) / np.array(best_height)\n",
    "pph"
   ]
  },
  {
   "cell_type": "code",
   "execution_count": 22,
   "metadata": {},
   "outputs": [
    {
     "data": {
      "text/plain": [
       "[<div class=\"CTPFVNB-w-o CTPFVNB-w-b\"><div class=\"CTPFVNB-w-x CTPFVNB-w-M\" style=\"left: 0px; height: 99.32572864321608px;\"></div><div class=\"CTPFVNB-w-x CTPFVNB-w-M\" style=\"left: 6px; height: 97.65671691792295px;\"></div><div class=\"CTPFVNB-w-x\" style=\"left: 12px; height: 92.32475711892798px;\"></div><div class=\"CTPFVNB-w-x\" style=\"left: 18px; height: 72.7937688442211px;\"></div><div class=\"CTPFVNB-w-x\" style=\"left: 24px; height: 67.46713567839197px;\"></div><div class=\"CTPFVNB-w-x\" style=\"left: 30px; height: 62.14050251256282px;\"></div><div class=\"CTPFVNB-w-x\" style=\"left: 36px; height: 62.14050251256282px;\"></div><div class=\"CTPFVNB-w-x CTPFVNB-w-M\" style=\"left: 42px; height: 71.01822445561139px;\"></div><div class=\"CTPFVNB-w-x CTPFVNB-w-M\" style=\"left: 48px; height: 67.46713567839197px;\"></div><div class=\"CTPFVNB-w-x\" style=\"left: 54px; height: 62.14050251256282px;\"></div><div class=\"CTPFVNB-w-x\" style=\"left: 60px; height: 62.14050251256282px;\"></div><div class=\"CTPFVNB-w-x\" style=\"left: 66px; height: 60.54606365159129px;\"></div><div class=\"CTPFVNB-w-x\" style=\"left: 72px; height: 69.60134003350085px;\"></div><div class=\"CTPFVNB-w-x\" style=\"left: 78px; height: 65.34003350083752px;\"></div><div class=\"CTPFVNB-w-x CTPFVNB-w-M\" style=\"left: 84px; height: 63.916046901172535px;\"></div><div class=\"CTPFVNB-w-x CTPFVNB-w-M\" style=\"left: 90px; height: 58.589413735343385px;\"></div><div class=\"CTPFVNB-w-x\" style=\"left: 96px; height: 63.916046901172535px;\"></div><div class=\"CTPFVNB-w-x\" style=\"left: 102px; height: 63.916046901172535px;\"></div><div class=\"CTPFVNB-w-x\" style=\"left: 108px; height: 60.54606365159129px;\"></div><div class=\"CTPFVNB-w-x CTPFVNB-w-f\" style=\"left: 114px; height: 53.26278056951424px;\"></div><div class=\"CTPFVNB-w-x\" style=\"left: 120px; height: 60.54606365159129px;\"></div><div class=\"CTPFVNB-w-x CTPFVNB-w-M\" style=\"left: 126px; height: 58.589413735343385px;\"></div><div class=\"CTPFVNB-w-x CTPFVNB-w-M\" style=\"left: 132px; height: 58.589413735343385px;\"></div><div class=\"CTPFVNB-w-x\" style=\"left: 138px; height: 58.589413735343385px;\"></div><div class=\"CTPFVNB-w-x\" style=\"left: 144px; height: 58.589413735343385px;\"></div><div class=\"CTPFVNB-w-x\" style=\"left: 150px; height: 62.14050251256282px;\"></div><div class=\"CTPFVNB-w-x\" style=\"left: 156px; height: 62.14050251256282px;\"></div><div class=\"CTPFVNB-w-x\" style=\"left: 162px; height: 60.54606365159129px;\"></div><div class=\"CTPFVNB-w-x CTPFVNB-w-M\" style=\"left: 168px; height: 53.26278056951424px;\"></div><div class=\"CTPFVNB-w-x CTPFVNB-w-M\" style=\"left: 174px; height: 53.26278056951424px;\"></div><div class=\"CTPFVNB-w-x\" style=\"left: 180px; height: 69.06867671691792px;\"></div><div class=\"CTPFVNB-w-x\" style=\"left: 186px; height: 73.32998324958123px;\"></div><div class=\"CTPFVNB-w-x\" style=\"left: 192px; height: 83.98324958123952px;\"></div><div class=\"CTPFVNB-w-x\" style=\"left: 198px; height: 91.0303852596315px;\"></div><div class=\"CTPFVNB-w-x\" style=\"left: 204px; height: 73.86264656616416px;\"></div><div class=\"CTPFVNB-w-x CTPFVNB-w-M\" style=\"left: 210px; height: 106px;\"></div><div class=\"CTPFVNB-w-x CTPFVNB-w-M\" style=\"left: 216px; height: 85.58123953098827px;\"></div><div class=\"CTPFVNB-w-x\" style=\"left: 222px; height: 78.12395309882747px;\"></div><div class=\"CTPFVNB-w-x\" style=\"left: 228px; height: 82.3515242881072px;\"></div><div class=\"CTPFVNB-w-x\" style=\"left: 234px; height: 77.59128978224456px;\"></div><div class=\"CTPFVNB-w-x\" style=\"left: 240px; height: 60.54606365159129px;\"></div><div class=\"CTPFVNB-w-x\" style=\"left: 246px; height: 69.60134003350085px;\"></div><div class=\"CTPFVNB-w-x CTPFVNB-w-M\" style=\"left: 252px; height: 62.14050251256282px;\"></div><div class=\"CTPFVNB-w-x CTPFVNB-w-M\" style=\"left: 258px; height: 60.54606365159129px;\"></div><div class=\"CTPFVNB-w-x\" style=\"left: 264px; height: 53.26278056951424px;\"></div><div class=\"CTPFVNB-w-x\" style=\"left: 270px; height: 58.589413735343385px;\"></div><div class=\"CTPFVNB-w-x\" style=\"left: 276px; height: 53.26278056951424px;\"></div><div class=\"CTPFVNB-w-x\" style=\"left: 282px; height: 60.54606365159129px;\"></div><div class=\"CTPFVNB-w-x\" style=\"left: 288px; height: 65.16247906197655px;\"></div><div class=\"CTPFVNB-w-x CTPFVNB-w-M\" style=\"left: 294px; height: 69.42378559463987px;\"></div><div class=\"CTPFVNB-w-x CTPFVNB-w-M\" style=\"left: 300px; height: 60.54606365159129px;\"></div><div class=\"CTPFVNB-w-x\" style=\"left: 306px; height: 60.54606365159129px;\"></div><div class=\"CTPFVNB-w-x\" style=\"left: 312px; height: 67.46713567839197px;\"></div><div class=\"CTPFVNB-w-x\" style=\"left: 318px; height: 60.54606365159129px;\"></div><div class=\"CTPFVNB-w-x\" style=\"left: 324px; height: 65.16247906197655px;\"></div><div class=\"CTPFVNB-w-x\" style=\"left: 330px; height: 74.04020100502512px;\"></div><div class=\"CTPFVNB-w-x CTPFVNB-w-M\" style=\"left: 336px; height: 69.42378559463987px;\"></div><div class=\"CTPFVNB-w-x CTPFVNB-w-M\" style=\"left: 342px; height: 65.16247906197655px;\"></div><div class=\"CTPFVNB-w-x\" style=\"left: 348px; height: 53.26278056951424px;\"></div><div class=\"CTPFVNB-w-x\" style=\"left: 354px; height: 67.46713567839197px;\"></div><div class=\"CTPFVNB-w-L\" style=\"left: 5px;\"></div><div class=\"CTPFVNB-w-L\" style=\"left: 47px;\"></div><div class=\"CTPFVNB-w-L\" style=\"left: 89px;\"></div><div class=\"CTPFVNB-w-L\" style=\"left: 131px;\"></div><div class=\"CTPFVNB-w-L\" style=\"left: 173px;\"></div><div class=\"CTPFVNB-w-L\" style=\"left: 215px;\"></div><div class=\"CTPFVNB-w-L\" style=\"left: 257px;\"></div><div class=\"CTPFVNB-w-L\" style=\"left: 299px;\"></div><div class=\"CTPFVNB-w-L\" style=\"left: 341px;\"></div><div aria-hidden=\"true\" class=\"CTPFVNB-w-J\" style=\"display: none;\"></div><div aria-hidden=\"true\" class=\"CTPFVNB-w-K\" style=\"display: none;\"></div></div>,\n",
       " <div class=\"CTPFVNB-w-o CTPFVNB-w-b\"><div class=\"CTPFVNB-w-x CTPFVNB-w-M\" style=\"left: 0px; height: 106px;\"></div><div class=\"CTPFVNB-w-x CTPFVNB-w-M\" style=\"left: 6px; height: 104.26279132490362px;\"></div><div class=\"CTPFVNB-w-x\" style=\"left: 12px; height: 68.9468356840285px;\"></div><div class=\"CTPFVNB-w-x\" style=\"left: 18px; height: 63.90169916390347px;\"></div><div class=\"CTPFVNB-w-x\" style=\"left: 24px; height: 58.85656264377846px;\"></div><div class=\"CTPFVNB-w-x\" style=\"left: 30px; height: 58.85656264377846px;\"></div><div class=\"CTPFVNB-w-x\" style=\"left: 36px; height: 63.90169916390347px;\"></div><div class=\"CTPFVNB-w-x CTPFVNB-w-M\" style=\"left: 42px; height: 67.26512351065348px;\"></div><div class=\"CTPFVNB-w-x CTPFVNB-w-M\" style=\"left: 48px; height: 55.49313829702845px;\"></div><div class=\"CTPFVNB-w-x CTPFVNB-w-f\" style=\"left: 54px; height: 50.448001776903425px;\"></div><div class=\"CTPFVNB-w-x\" style=\"left: 60px; height: 55.49313829702845px;\"></div><div class=\"CTPFVNB-w-x\" style=\"left: 66px; height: 60.53827481715347px;\"></div><div class=\"CTPFVNB-w-x\" style=\"left: 72px; height: 63.90169916390347px;\"></div><div class=\"CTPFVNB-w-x\" style=\"left: 78px; height: 63.90169916390347px;\"></div><div class=\"CTPFVNB-w-x CTPFVNB-w-M\" style=\"left: 84px; height: 63.90169916390347px;\"></div><div class=\"CTPFVNB-w-x CTPFVNB-w-M\" style=\"left: 90px; height: 58.85656264377846px;\"></div><div class=\"CTPFVNB-w-x\" style=\"left: 96px; height: 55.49313829702845px;\"></div><div class=\"CTPFVNB-w-x\" style=\"left: 102px; height: 60.53827481715347px;\"></div><div class=\"CTPFVNB-w-x\" style=\"left: 108px; height: 60.53827481715347px;\"></div><div class=\"CTPFVNB-w-x\" style=\"left: 114px; height: 50.448001776903425px;\"></div><div class=\"CTPFVNB-w-x\" style=\"left: 120px; height: 50.448001776903425px;\"></div><div class=\"CTPFVNB-w-x CTPFVNB-w-M\" style=\"left: 126px; height: 63.90169916390347px;\"></div><div class=\"CTPFVNB-w-x CTPFVNB-w-M\" style=\"left: 132px; height: 50.448001776903425px;\"></div><div class=\"CTPFVNB-w-x\" style=\"left: 138px; height: 50.448001776903425px;\"></div><div class=\"CTPFVNB-w-x\" style=\"left: 144px; height: 58.85656264377846px;\"></div><div class=\"CTPFVNB-w-x\" style=\"left: 150px; height: 63.90169916390347px;\"></div><div class=\"CTPFVNB-w-x\" style=\"left: 156px; height: 58.85656264377846px;\"></div><div class=\"CTPFVNB-w-x\" style=\"left: 162px; height: 50.448001776903425px;\"></div><div class=\"CTPFVNB-w-x CTPFVNB-w-M\" style=\"left: 168px; height: 50.448001776903425px;\"></div><div class=\"CTPFVNB-w-x CTPFVNB-w-M\" style=\"left: 174px; height: 58.85656264377846px;\"></div><div class=\"CTPFVNB-w-x\" style=\"left: 180px; height: 58.85656264377846px;\"></div><div class=\"CTPFVNB-w-x\" style=\"left: 186px; height: 83.44487633069441px;\"></div><div class=\"CTPFVNB-w-x\" style=\"left: 192px; height: 72.31026003077851px;\"></div><div class=\"CTPFVNB-w-x\" style=\"left: 198px; height: 96.54877758563246px;\"></div><div class=\"CTPFVNB-w-x\" style=\"left: 204px; height: 96.54877758563246px;\"></div><div class=\"CTPFVNB-w-x CTPFVNB-w-M\" style=\"left: 210px; height: 100.85396074947249px;\"></div><div class=\"CTPFVNB-w-x CTPFVNB-w-M\" style=\"left: 216px; height: 102.58107915152861px;\"></div><div class=\"CTPFVNB-w-x\" style=\"left: 222px; height: 104.466278497882px;\"></div><div class=\"CTPFVNB-w-x\" style=\"left: 228px; height: 84.28573241738192px;\"></div><div class=\"CTPFVNB-w-x\" style=\"left: 234px; height: 73.99197220415351px;\"></div><div class=\"CTPFVNB-w-x\" style=\"left: 240px; height: 66.69670479605273px;\"></div><div class=\"CTPFVNB-w-x\" style=\"left: 246px; height: 77.35539655090352px;\"></div><div class=\"CTPFVNB-w-x CTPFVNB-w-M\" style=\"left: 252px; height: 63.90169916390347px;\"></div><div class=\"CTPFVNB-w-x CTPFVNB-w-M\" style=\"left: 258px; height: 63.90169916390347px;\"></div><div class=\"CTPFVNB-w-x\" style=\"left: 264px; height: 58.85656264377846px;\"></div><div class=\"CTPFVNB-w-x\" style=\"left: 270px; height: 58.85656264377846px;\"></div><div class=\"CTPFVNB-w-x\" style=\"left: 276px; height: 58.85656264377846px;\"></div><div class=\"CTPFVNB-w-x\" style=\"left: 282px; height: 68.10934302168774px;\"></div><div class=\"CTPFVNB-w-x\" style=\"left: 288px; height: 79.03710872427853px;\"></div><div class=\"CTPFVNB-w-x CTPFVNB-w-M\" style=\"left: 294px; height: 83.44487633069441px;\"></div><div class=\"CTPFVNB-w-x CTPFVNB-w-M\" style=\"left: 300px; height: 63.90169916390347px;\"></div><div class=\"CTPFVNB-w-x\" style=\"left: 306px; height: 68.9468356840285px;\"></div><div class=\"CTPFVNB-w-x\" style=\"left: 312px; height: 50.448001776903425px;\"></div><div class=\"CTPFVNB-w-x\" style=\"left: 318px; height: 81.76316415731942px;\"></div><div class=\"CTPFVNB-w-x\" style=\"left: 324px; height: 63.90169916390347px;\"></div><div class=\"CTPFVNB-w-x\" style=\"left: 330px; height: 90.80909393790357px;\"></div><div class=\"CTPFVNB-w-x CTPFVNB-w-M\" style=\"left: 336px; height: 88.49001285081944px;\"></div><div class=\"CTPFVNB-w-x CTPFVNB-w-M\" style=\"left: 342px; height: 63.90169916390347px;\"></div><div class=\"CTPFVNB-w-x\" style=\"left: 348px; height: 82.40053307102853px;\"></div><div class=\"CTPFVNB-w-x\" style=\"left: 354px; height: 82.40053307102853px;\"></div><div class=\"CTPFVNB-w-L\" style=\"left: 5px;\"></div><div class=\"CTPFVNB-w-L\" style=\"left: 47px;\"></div><div class=\"CTPFVNB-w-L\" style=\"left: 89px;\"></div><div class=\"CTPFVNB-w-L\" style=\"left: 131px;\"></div><div class=\"CTPFVNB-w-L\" style=\"left: 173px;\"></div><div class=\"CTPFVNB-w-L\" style=\"left: 215px;\"></div><div class=\"CTPFVNB-w-L\" style=\"left: 257px;\"></div><div class=\"CTPFVNB-w-L\" style=\"left: 299px;\"></div><div class=\"CTPFVNB-w-L\" style=\"left: 341px;\"></div><div aria-hidden=\"true\" class=\"CTPFVNB-w-J\" style=\"display: none;\"></div><div aria-hidden=\"true\" class=\"CTPFVNB-w-K\" style=\"display: none;\"></div></div>,\n",
       " <div class=\"CTPFVNB-w-o CTPFVNB-w-b\"><div class=\"CTPFVNB-w-x CTPFVNB-w-M\" style=\"left: 0px; height: 97.91061164689025px;\"></div><div class=\"CTPFVNB-w-x CTPFVNB-w-M\" style=\"left: 6px; height: 106px;\"></div><div class=\"CTPFVNB-w-x\" style=\"left: 12px; height: 73.3813334192011px;\"></div><div class=\"CTPFVNB-w-x\" style=\"left: 18px; height: 69.9680893883531px;\"></div><div class=\"CTPFVNB-w-x\" style=\"left: 24px; height: 73.3813334192011px;\"></div><div class=\"CTPFVNB-w-x\" style=\"left: 30px; height: 59.72835729580912px;\"></div><div class=\"CTPFVNB-w-x\" style=\"left: 36px; height: 64.84822334208111px;\"></div><div class=\"CTPFVNB-w-x CTPFVNB-w-M\" style=\"left: 42px; height: 68.26146737292912px;\"></div><div class=\"CTPFVNB-w-x CTPFVNB-w-M\" style=\"left: 48px; height: 64.84822334208111px;\"></div><div class=\"CTPFVNB-w-x\" style=\"left: 54px; height: 59.72835729580912px;\"></div><div class=\"CTPFVNB-w-x\" style=\"left: 60px; height: 59.72835729580912px;\"></div><div class=\"CTPFVNB-w-x\" style=\"left: 66px; height: 59.72835729580912px;\"></div><div class=\"CTPFVNB-w-x\" style=\"left: 72px; height: 68.26146737292912px;\"></div><div class=\"CTPFVNB-w-x\" style=\"left: 78px; height: 64.84822334208111px;\"></div><div class=\"CTPFVNB-w-x CTPFVNB-w-f CTPFVNB-w-M\" style=\"left: 84px; height: 51.19524721868912px;\"></div><div class=\"CTPFVNB-w-x CTPFVNB-w-M\" style=\"left: 90px; height: 51.19524721868912px;\"></div><div class=\"CTPFVNB-w-x\" style=\"left: 96px; height: 56.31511326496111px;\"></div><div class=\"CTPFVNB-w-x\" style=\"left: 102px; height: 61.434979311233114px;\"></div><div class=\"CTPFVNB-w-x\" style=\"left: 108px; height: 51.19524721868912px;\"></div><div class=\"CTPFVNB-w-x\" style=\"left: 114px; height: 51.19524721868912px;\"></div><div class=\"CTPFVNB-w-x\" style=\"left: 120px; height: 51.19524721868912px;\"></div><div class=\"CTPFVNB-w-x CTPFVNB-w-M\" style=\"left: 126px; height: 56.31511326496111px;\"></div><div class=\"CTPFVNB-w-x CTPFVNB-w-M\" style=\"left: 132px; height: 51.19524721868912px;\"></div><div class=\"CTPFVNB-w-x\" style=\"left: 138px; height: 51.19524721868912px;\"></div><div class=\"CTPFVNB-w-x\" style=\"left: 144px; height: 51.19524721868912px;\"></div><div class=\"CTPFVNB-w-x\" style=\"left: 150px; height: 51.19524721868912px;\"></div><div class=\"CTPFVNB-w-x\" style=\"left: 156px; height: 51.19524721868912px;\"></div><div class=\"CTPFVNB-w-x\" style=\"left: 162px; height: 51.19524721868912px;\"></div><div class=\"CTPFVNB-w-x CTPFVNB-w-M\" style=\"left: 168px; height: 51.19524721868912px;\"></div><div class=\"CTPFVNB-w-x CTPFVNB-w-M\" style=\"left: 174px; height: 51.19524721868912px;\"></div><div class=\"CTPFVNB-w-x\" style=\"left: 180px; height: 51.19524721868912px;\"></div><div class=\"CTPFVNB-w-x\" style=\"left: 186px; height: 64.84822334208111px;\"></div><div class=\"CTPFVNB-w-x\" style=\"left: 192px; height: 68.26146737292912px;\"></div><div class=\"CTPFVNB-w-x\" style=\"left: 198px; height: 88.7409315580171px;\"></div><div class=\"CTPFVNB-w-x\" style=\"left: 204px; height: 99.27590925922944px;\"></div><div class=\"CTPFVNB-w-x CTPFVNB-w-M\" style=\"left: 210px; height: 95.56741961971309px;\"></div><div class=\"CTPFVNB-w-x CTPFVNB-w-M\" style=\"left: 216px; height: 87.20838498816634px;\"></div><div class=\"CTPFVNB-w-x\" style=\"left: 222px; height: 88.40302039896315px;\"></div><div class=\"CTPFVNB-w-x\" style=\"left: 228px; height: 95.11175154159488px;\"></div><div class=\"CTPFVNB-w-x\" style=\"left: 234px; height: 73.3813334192011px;\"></div><div class=\"CTPFVNB-w-x\" style=\"left: 240px; height: 68.26146737292912px;\"></div><div class=\"CTPFVNB-w-x\" style=\"left: 246px; height: 73.3813334192011px;\"></div><div class=\"CTPFVNB-w-x CTPFVNB-w-M\" style=\"left: 252px; height: 68.26146737292912px;\"></div><div class=\"CTPFVNB-w-x CTPFVNB-w-M\" style=\"left: 258px; height: 64.84822334208111px;\"></div><div class=\"CTPFVNB-w-x\" style=\"left: 264px; height: 51.19524721868912px;\"></div><div class=\"CTPFVNB-w-x\" style=\"left: 270px; height: 51.19524721868912px;\"></div><div class=\"CTPFVNB-w-x\" style=\"left: 276px; height: 64.84822334208111px;\"></div><div class=\"CTPFVNB-w-x\" style=\"left: 282px; height: 75.0879554346251px;\"></div><div class=\"CTPFVNB-w-x\" style=\"left: 288px; height: 84.63650561092238px;\"></div><div class=\"CTPFVNB-w-x CTPFVNB-w-M\" style=\"left: 294px; height: 80.20782148089711px;\"></div><div class=\"CTPFVNB-w-x CTPFVNB-w-M\" style=\"left: 300px; height: 59.72835729580912px;\"></div><div class=\"CTPFVNB-w-x\" style=\"left: 306px; height: 51.19524721868912px;\"></div><div class=\"CTPFVNB-w-x\" style=\"left: 312px; height: 64.84822334208111px;\"></div><div class=\"CTPFVNB-w-x\" style=\"left: 318px; height: 78.5011994654731px;\"></div><div class=\"CTPFVNB-w-x\" style=\"left: 324px; height: 73.3813334192011px;\"></div><div class=\"CTPFVNB-w-x\" style=\"left: 330px; height: 69.9680893883531px;\"></div><div class=\"CTPFVNB-w-x CTPFVNB-w-M\" style=\"left: 336px; height: 82.94182994960634px;\"></div><div class=\"CTPFVNB-w-x CTPFVNB-w-M\" style=\"left: 342px; height: 64.84822334208111px;\"></div><div class=\"CTPFVNB-w-x\" style=\"left: 348px; height: 64.84822334208111px;\"></div><div class=\"CTPFVNB-w-x\" style=\"left: 354px; height: 64.84822334208111px;\"></div><div class=\"CTPFVNB-w-L\" style=\"left: 5px;\"></div><div class=\"CTPFVNB-w-L\" style=\"left: 47px;\"></div><div class=\"CTPFVNB-w-L\" style=\"left: 89px;\"></div><div class=\"CTPFVNB-w-L\" style=\"left: 131px;\"></div><div class=\"CTPFVNB-w-L\" style=\"left: 173px;\"></div><div class=\"CTPFVNB-w-L\" style=\"left: 215px;\"></div><div class=\"CTPFVNB-w-L\" style=\"left: 257px;\"></div><div class=\"CTPFVNB-w-L\" style=\"left: 299px;\"></div><div class=\"CTPFVNB-w-L\" style=\"left: 341px;\"></div><div aria-hidden=\"true\" class=\"CTPFVNB-w-J\" style=\"display: none;\"></div><div aria-hidden=\"true\" class=\"CTPFVNB-w-K\" style=\"display: none;\"></div></div>,\n",
       " <div class=\"CTPFVNB-w-o CTPFVNB-w-b\"><div class=\"CTPFVNB-w-x CTPFVNB-w-M\" style=\"left: 0px; height: 91.02389250896601px;\"></div><div class=\"CTPFVNB-w-x CTPFVNB-w-M\" style=\"left: 6px; height: 82.09998147867523px;\"></div><div class=\"CTPFVNB-w-x\" style=\"left: 12px; height: 82.09998147867523px;\"></div><div class=\"CTPFVNB-w-x\" style=\"left: 18px; height: 99.1285885066761px;\"></div><div class=\"CTPFVNB-w-x\" style=\"left: 24px; height: 67.81815426579786px;\"></div><div class=\"CTPFVNB-w-x\" style=\"left: 30px; height: 76.63854792813727px;\"></div><div class=\"CTPFVNB-w-x\" style=\"left: 36px; height: 81.38606859625196px;\"></div><div class=\"CTPFVNB-w-x CTPFVNB-w-M\" style=\"left: 42px; height: 64.24858985368154px;\"></div><div class=\"CTPFVNB-w-x CTPFVNB-w-M\" style=\"left: 48px; height: 65.32302874172855px;\"></div><div class=\"CTPFVNB-w-x\" style=\"left: 54px; height: 65.32302874172855px;\"></div><div class=\"CTPFVNB-w-x\" style=\"left: 60px; height: 84.95563300836827px;\"></div><div class=\"CTPFVNB-w-x\" style=\"left: 66px; height: 65.32302874172855px;\"></div><div class=\"CTPFVNB-w-x\" style=\"left: 72px; height: 77.78080854001449px;\"></div><div class=\"CTPFVNB-w-x\" style=\"left: 78px; height: 78.53041706655891px;\"></div><div class=\"CTPFVNB-w-x CTPFVNB-w-M\" style=\"left: 84px; height: 74.24693977201933px;\"></div><div class=\"CTPFVNB-w-x CTPFVNB-w-M\" style=\"left: 90px; height: 65.32302874172855px;\"></div><div class=\"CTPFVNB-w-x\" style=\"left: 96px; height: 65.32302874172855px;\"></div><div class=\"CTPFVNB-w-x\" style=\"left: 102px; height: 74.175548483777px;\"></div><div class=\"CTPFVNB-w-x\" style=\"left: 108px; height: 58.89424323550707px;\"></div><div class=\"CTPFVNB-w-x\" style=\"left: 114px; height: 75.67476553686585px;\"></div><div class=\"CTPFVNB-w-x\" style=\"left: 120px; height: 65.32302874172855px;\"></div><div class=\"CTPFVNB-w-x CTPFVNB-w-f CTPFVNB-w-M\" style=\"left: 126px; height: 53.53989661733259px;\"></div><div class=\"CTPFVNB-w-x CTPFVNB-w-M\" style=\"left: 132px; height: 59.61172568234244px;\"></div><div class=\"CTPFVNB-w-x\" style=\"left: 138px; height: 59.61172568234244px;\"></div><div class=\"CTPFVNB-w-x\" style=\"left: 144px; height: 78.11991715916552px;\"></div><div class=\"CTPFVNB-w-x\" style=\"left: 150px; height: 65.32302874172855px;\"></div><div class=\"CTPFVNB-w-x\" style=\"left: 156px; height: 87.4114933239043px;\"></div><div class=\"CTPFVNB-w-x\" style=\"left: 162px; height: 72.46215756596116px;\"></div><div class=\"CTPFVNB-w-x CTPFVNB-w-M\" style=\"left: 168px; height: 65.32302874172855px;\"></div><div class=\"CTPFVNB-w-x CTPFVNB-w-M\" style=\"left: 174px; height: 76.38867841928912px;\"></div><div class=\"CTPFVNB-w-x\" style=\"left: 180px; height: 65.32302874172855px;\"></div><div class=\"CTPFVNB-w-x\" style=\"left: 186px; height: 87.4543280968497px;\"></div><div class=\"CTPFVNB-w-x\" style=\"left: 192px; height: 80.31519927261706px;\"></div><div class=\"CTPFVNB-w-x\" style=\"left: 198px; height: 102.2680204071324px;\"></div><div class=\"CTPFVNB-w-x\" style=\"left: 204px; height: 106px;\"></div><div class=\"CTPFVNB-w-x CTPFVNB-w-M\" style=\"left: 210px; height: 97.44910845077537px;\"></div><div class=\"CTPFVNB-w-x CTPFVNB-w-M\" style=\"left: 216px; height: 76.38867841928912px;\"></div><div class=\"CTPFVNB-w-x\" style=\"left: 222px; height: 76.38867841928912px;\"></div><div class=\"CTPFVNB-w-x\" style=\"left: 228px; height: 81.20759037564615px;\"></div><div class=\"CTPFVNB-w-x\" style=\"left: 234px; height: 65.32302874172855px;\"></div><div class=\"CTPFVNB-w-x\" style=\"left: 240px; height: 74.60389621323097px;\"></div><div class=\"CTPFVNB-w-x\" style=\"left: 246px; height: 77.63802596352983px;\"></div><div class=\"CTPFVNB-w-x CTPFVNB-w-M\" style=\"left: 252px; height: 83.88119412032125px;\"></div><div class=\"CTPFVNB-w-x CTPFVNB-w-M\" style=\"left: 258px; height: 72.46215756596116px;\"></div><div class=\"CTPFVNB-w-x\" style=\"left: 264px; height: 67.46476738899834px;\"></div><div class=\"CTPFVNB-w-x\" style=\"left: 270px; height: 88.7036756410904px;\"></div><div class=\"CTPFVNB-w-x\" style=\"left: 276px; height: 76.03172197807748px;\"></div><div class=\"CTPFVNB-w-x\" style=\"left: 282px; height: 78.35193884595309px;\"></div><div class=\"CTPFVNB-w-x\" style=\"left: 288px; height: 78.70889528716472px;\"></div><div class=\"CTPFVNB-w-x CTPFVNB-w-M\" style=\"left: 294px; height: 84.86817868027141px;\"></div><div class=\"CTPFVNB-w-x CTPFVNB-w-M\" style=\"left: 300px; height: 77.81650418413565px;\"></div><div class=\"CTPFVNB-w-x\" style=\"left: 306px; height: 76.38867841928912px;\"></div><div class=\"CTPFVNB-w-x\" style=\"left: 312px; height: 85.49106767018571px;\"></div><div class=\"CTPFVNB-w-x\" style=\"left: 318px; height: 69.60650603626813px;\"></div><div class=\"CTPFVNB-w-x\" style=\"left: 324px; height: 82.63541614049267px;\"></div><div class=\"CTPFVNB-w-x\" style=\"left: 330px; height: 80.67215571382869px;\"></div><div class=\"CTPFVNB-w-x CTPFVNB-w-M\" style=\"left: 336px; height: 90.22252529844589px;\"></div><div class=\"CTPFVNB-w-x CTPFVNB-w-M\" style=\"left: 342px; height: 77.81650418413565px;\"></div><div class=\"CTPFVNB-w-x\" style=\"left: 348px; height: 73.53302688959606px;\"></div><div class=\"CTPFVNB-w-x\" style=\"left: 354px; height: 84.86817868027141px;\"></div><div class=\"CTPFVNB-w-L\" style=\"left: 5px;\"></div><div class=\"CTPFVNB-w-L\" style=\"left: 47px;\"></div><div class=\"CTPFVNB-w-L\" style=\"left: 89px;\"></div><div class=\"CTPFVNB-w-L\" style=\"left: 131px;\"></div><div class=\"CTPFVNB-w-L\" style=\"left: 173px;\"></div><div class=\"CTPFVNB-w-L\" style=\"left: 215px;\"></div><div class=\"CTPFVNB-w-L\" style=\"left: 257px;\"></div><div class=\"CTPFVNB-w-L\" style=\"left: 299px;\"></div><div class=\"CTPFVNB-w-L\" style=\"left: 341px;\"></div><div aria-hidden=\"true\" class=\"CTPFVNB-w-J\" style=\"display: none;\"></div><div aria-hidden=\"true\" class=\"CTPFVNB-w-K\" style=\"display: none;\"></div></div>,\n",
       " <div class=\"CTPFVNB-w-o CTPFVNB-w-b\"><div class=\"CTPFVNB-w-x CTPFVNB-w-M\" style=\"left: 0px; height: 106px;\"></div><div class=\"CTPFVNB-w-x CTPFVNB-w-M\" style=\"left: 6px; height: 94.82745353874977px;\"></div><div class=\"CTPFVNB-w-x\" style=\"left: 12px; height: 81.58210802763419px;\"></div><div class=\"CTPFVNB-w-x\" style=\"left: 18px; height: 79.68484970141014px;\"></div><div class=\"CTPFVNB-w-x\" style=\"left: 24px; height: 104.08323714892691px;\"></div><div class=\"CTPFVNB-w-x\" style=\"left: 30px; height: 74.31223967481307px;\"></div><div class=\"CTPFVNB-w-x\" style=\"left: 36px; height: 70.9432762917984px;\"></div><div class=\"CTPFVNB-w-x CTPFVNB-w-M\" style=\"left: 42px; height: 94.30969706093909px;\"></div><div class=\"CTPFVNB-w-x CTPFVNB-w-M\" style=\"left: 48px; height: 62.024389019922715px;\"></div><div class=\"CTPFVNB-w-x\" style=\"left: 54px; height: 62.024389019922715px;\"></div><div class=\"CTPFVNB-w-x\" style=\"left: 60px; height: 78.81601177631688px;\"></div><div class=\"CTPFVNB-w-x\" style=\"left: 66px; height: 94.30969706093909px;\"></div><div class=\"CTPFVNB-w-x\" style=\"left: 72px; height: 70.9432762917984px;\"></div><div class=\"CTPFVNB-w-x\" style=\"left: 78px; height: 67.3969990465198px;\"></div><div class=\"CTPFVNB-w-x CTPFVNB-w-M\" style=\"left: 84px; height: 87.99732356434319px;\"></div><div class=\"CTPFVNB-w-x CTPFVNB-w-M\" style=\"left: 90px; height: 67.3969990465198px;\"></div><div class=\"CTPFVNB-w-x\" style=\"left: 96px; height: 67.3969990465198px;\"></div><div class=\"CTPFVNB-w-x\" style=\"left: 102px; height: 77.45069503688462px;\"></div><div class=\"CTPFVNB-w-x\" style=\"left: 108px; height: 94.30969706093909px;\"></div><div class=\"CTPFVNB-w-x\" style=\"left: 114px; height: 62.0775831786019px;\"></div><div class=\"CTPFVNB-w-x\" style=\"left: 120px; height: 70.9432762917984px;\"></div><div class=\"CTPFVNB-w-x CTPFVNB-w-M\" style=\"left: 126px; height: 84.22408457536676px;\"></div><div class=\"CTPFVNB-w-x CTPFVNB-w-f CTPFVNB-w-M\" style=\"left: 132px; height: 56.70497315200482px;\"></div><div class=\"CTPFVNB-w-x\" style=\"left: 138px; height: 56.70497315200482px;\"></div><div class=\"CTPFVNB-w-x\" style=\"left: 144px; height: 56.70497315200482px;\"></div><div class=\"CTPFVNB-w-x\" style=\"left: 150px; height: 62.0775831786019px;\"></div><div class=\"CTPFVNB-w-x\" style=\"left: 156px; height: 65.6238604238805px;\"></div><div class=\"CTPFVNB-w-x\" style=\"left: 162px; height: 65.6238604238805px;\"></div><div class=\"CTPFVNB-w-x CTPFVNB-w-M\" style=\"left: 168px; height: 65.6238604238805px;\"></div><div class=\"CTPFVNB-w-x CTPFVNB-w-M\" style=\"left: 174px; height: 56.70497315200482px;\"></div><div class=\"CTPFVNB-w-x\" style=\"left: 180px; height: 62.0775831786019px;\"></div><div class=\"CTPFVNB-w-x\" style=\"left: 186px; height: 70.9432762917984px;\"></div><div class=\"CTPFVNB-w-x\" style=\"left: 192px; height: 103.76584533547448px;\"></div><div class=\"CTPFVNB-w-x\" style=\"left: 198px; height: 93.9940783861093px;\"></div><div class=\"CTPFVNB-w-x\" style=\"left: 204px; height: 86.9015238955521px;\"></div><div class=\"CTPFVNB-w-x CTPFVNB-w-M\" style=\"left: 210px; height: 105.53898395811377px;\"></div><div class=\"CTPFVNB-w-x CTPFVNB-w-M\" style=\"left: 216px; height: 76.2626921597163px;\"></div><div class=\"CTPFVNB-w-x\" style=\"left: 222px; height: 67.3969990465198px;\"></div><div class=\"CTPFVNB-w-x\" style=\"left: 228px; height: 76.2626921597163px;\"></div><div class=\"CTPFVNB-w-x\" style=\"left: 234px; height: 70.9432762917984px;\"></div><div class=\"CTPFVNB-w-x\" style=\"left: 240px; height: 67.3969990465198px;\"></div><div class=\"CTPFVNB-w-x\" style=\"left: 246px; height: 70.9432762917984px;\"></div><div class=\"CTPFVNB-w-x CTPFVNB-w-M\" style=\"left: 252px; height: 62.0775831786019px;\"></div><div class=\"CTPFVNB-w-x CTPFVNB-w-M\" style=\"left: 258px; height: 56.70497315200482px;\"></div><div class=\"CTPFVNB-w-x\" style=\"left: 264px; height: 56.70497315200482px;\"></div><div class=\"CTPFVNB-w-x\" style=\"left: 270px; height: 70.9432762917984px;\"></div><div class=\"CTPFVNB-w-x\" style=\"left: 276px; height: 67.3969990465198px;\"></div><div class=\"CTPFVNB-w-x\" style=\"left: 282px; height: 76.2626921597163px;\"></div><div class=\"CTPFVNB-w-x\" style=\"left: 288px; height: 79.18837088707114px;\"></div><div class=\"CTPFVNB-w-x CTPFVNB-w-M\" style=\"left: 294px; height: 81.58210802763419px;\"></div><div class=\"CTPFVNB-w-x CTPFVNB-w-M\" style=\"left: 300px; height: 70.9432762917984px;\"></div><div class=\"CTPFVNB-w-x\" style=\"left: 306px; height: 70.9432762917984px;\"></div><div class=\"CTPFVNB-w-x\" style=\"left: 312px; height: 74.489553537077px;\"></div><div class=\"CTPFVNB-w-x\" style=\"left: 318px; height: 88.12498954517321px;\"></div><div class=\"CTPFVNB-w-x\" style=\"left: 324px; height: 97.48716147270872px;\"></div><div class=\"CTPFVNB-w-x\" style=\"left: 330px; height: 88.71012529064419px;\"></div><div class=\"CTPFVNB-w-x CTPFVNB-w-M\" style=\"left: 336px; height: 93.9940783861093px;\"></div><div class=\"CTPFVNB-w-x CTPFVNB-w-M\" style=\"left: 342px; height: 84.56098091366822px;\"></div><div class=\"CTPFVNB-w-x\" style=\"left: 348px; height: 70.9432762917984px;\"></div><div class=\"CTPFVNB-w-x\" style=\"left: 354px; height: 67.3969990465198px;\"></div><div class=\"CTPFVNB-w-L\" style=\"left: 5px;\"></div><div class=\"CTPFVNB-w-L\" style=\"left: 47px;\"></div><div class=\"CTPFVNB-w-L\" style=\"left: 89px;\"></div><div class=\"CTPFVNB-w-L\" style=\"left: 131px;\"></div><div class=\"CTPFVNB-w-L\" style=\"left: 173px;\"></div><div class=\"CTPFVNB-w-L\" style=\"left: 215px;\"></div><div class=\"CTPFVNB-w-L\" style=\"left: 257px;\"></div><div class=\"CTPFVNB-w-L\" style=\"left: 299px;\"></div><div class=\"CTPFVNB-w-L\" style=\"left: 341px;\"></div><div aria-hidden=\"true\" class=\"CTPFVNB-w-J\" style=\"display: none;\"></div><div aria-hidden=\"true\" class=\"CTPFVNB-w-K\" style=\"display: none;\"></div></div>,\n",
       " <div class=\"CTPFVNB-w-o CTPFVNB-w-b\"><div class=\"CTPFVNB-w-x CTPFVNB-w-M\" style=\"left: 0px; height: 106px;\"></div><div class=\"CTPFVNB-w-x CTPFVNB-w-M\" style=\"left: 6px; height: 84.18255750796376px;\"></div><div class=\"CTPFVNB-w-x\" style=\"left: 12px; height: 74.68751192730582px;\"></div><div class=\"CTPFVNB-w-x\" style=\"left: 18px; height: 71.5754025924458px;\"></div><div class=\"CTPFVNB-w-x\" style=\"left: 24px; height: 66.90723859015576px;\"></div><div class=\"CTPFVNB-w-x\" style=\"left: 30px; height: 60.6830199204357px;\"></div><div class=\"CTPFVNB-w-x\" style=\"left: 36px; height: 60.6830199204357px;\"></div><div class=\"CTPFVNB-w-x CTPFVNB-w-M\" style=\"left: 42px; height: 68.46329325758576px;\"></div><div class=\"CTPFVNB-w-x CTPFVNB-w-M\" style=\"left: 48px; height: 65.35118392272574px;\"></div><div class=\"CTPFVNB-w-x\" style=\"left: 54px; height: 60.6830199204357px;\"></div><div class=\"CTPFVNB-w-x\" style=\"left: 60px; height: 60.6830199204357px;\"></div><div class=\"CTPFVNB-w-x\" style=\"left: 66px; height: 60.6830199204357px;\"></div><div class=\"CTPFVNB-w-x\" style=\"left: 72px; height: 68.46329325758576px;\"></div><div class=\"CTPFVNB-w-x\" style=\"left: 78px; height: 65.35118392272574px;\"></div><div class=\"CTPFVNB-w-x CTPFVNB-w-M\" style=\"left: 84px; height: 62.23907458786571px;\"></div><div class=\"CTPFVNB-w-x CTPFVNB-w-M\" style=\"left: 90px; height: 57.57091058557566px;\"></div><div class=\"CTPFVNB-w-x\" style=\"left: 96px; height: 62.23907458786571px;\"></div><div class=\"CTPFVNB-w-x\" style=\"left: 102px; height: 62.23907458786571px;\"></div><div class=\"CTPFVNB-w-x\" style=\"left: 108px; height: 57.57091058557566px;\"></div><div class=\"CTPFVNB-w-x CTPFVNB-w-f\" style=\"left: 114px; height: 52.90274658328563px;\"></div><div class=\"CTPFVNB-w-x\" style=\"left: 120px; height: 52.90274658328563px;\"></div><div class=\"CTPFVNB-w-x CTPFVNB-w-M\" style=\"left: 126px; height: 52.90274658328563px;\"></div><div class=\"CTPFVNB-w-x CTPFVNB-w-M\" style=\"left: 132px; height: 52.90274658328563px;\"></div><div class=\"CTPFVNB-w-x\" style=\"left: 138px; height: 52.90274658328563px;\"></div><div class=\"CTPFVNB-w-x\" style=\"left: 144px; height: 60.6830199204357px;\"></div><div class=\"CTPFVNB-w-x\" style=\"left: 150px; height: 60.6830199204357px;\"></div><div class=\"CTPFVNB-w-x\" style=\"left: 156px; height: 60.6830199204357px;\"></div><div class=\"CTPFVNB-w-x\" style=\"left: 162px; height: 60.6830199204357px;\"></div><div class=\"CTPFVNB-w-x CTPFVNB-w-M\" style=\"left: 168px; height: 57.57091058557566px;\"></div><div class=\"CTPFVNB-w-x CTPFVNB-w-M\" style=\"left: 174px; height: 57.57091058557566px;\"></div><div class=\"CTPFVNB-w-x\" style=\"left: 180px; height: 57.57091058557566px;\"></div><div class=\"CTPFVNB-w-x\" style=\"left: 186px; height: 68.46329325758576px;\"></div><div class=\"CTPFVNB-w-x\" style=\"left: 192px; height: 65.35118392272574px;\"></div><div class=\"CTPFVNB-w-x\" style=\"left: 198px; height: 98.53093759633593px;\"></div><div class=\"CTPFVNB-w-x\" style=\"left: 204px; height: 98.42201376961583px;\"></div><div class=\"CTPFVNB-w-x CTPFVNB-w-M\" style=\"left: 210px; height: 98.11080283612982px;\"></div><div class=\"CTPFVNB-w-x CTPFVNB-w-M\" style=\"left: 216px; height: 94.6874825677838px;\"></div><div class=\"CTPFVNB-w-x\" style=\"left: 222px; height: 92.42964724534285px;\"></div><div class=\"CTPFVNB-w-x\" style=\"left: 228px; height: 90.25117071094083px;\"></div><div class=\"CTPFVNB-w-x\" style=\"left: 234px; height: 71.73412016852366px;\"></div><div class=\"CTPFVNB-w-x\" style=\"left: 240px; height: 74.68751192730582px;\"></div><div class=\"CTPFVNB-w-x\" style=\"left: 246px; height: 79.35567592959588px;\"></div><div class=\"CTPFVNB-w-x CTPFVNB-w-M\" style=\"left: 252px; height: 52.90274658328563px;\"></div><div class=\"CTPFVNB-w-x CTPFVNB-w-M\" style=\"left: 258px; height: 65.35118392272574px;\"></div><div class=\"CTPFVNB-w-x\" style=\"left: 264px; height: 57.57091058557566px;\"></div><div class=\"CTPFVNB-w-x\" style=\"left: 270px; height: 52.90274658328563px;\"></div><div class=\"CTPFVNB-w-x\" style=\"left: 276px; height: 52.90274658328563px;\"></div><div class=\"CTPFVNB-w-x\" style=\"left: 282px; height: 74.68751192730582px;\"></div><div class=\"CTPFVNB-w-x\" style=\"left: 288px; height: 79.35567592959588px;\"></div><div class=\"CTPFVNB-w-x CTPFVNB-w-M\" style=\"left: 294px; height: 78.58076070521572px;\"></div><div class=\"CTPFVNB-w-x CTPFVNB-w-M\" style=\"left: 300px; height: 60.6830199204357px;\"></div><div class=\"CTPFVNB-w-x\" style=\"left: 306px; height: 52.90274658328563px;\"></div><div class=\"CTPFVNB-w-x\" style=\"left: 312px; height: 66.90723859015576px;\"></div><div class=\"CTPFVNB-w-x\" style=\"left: 318px; height: 74.68751192730582px;\"></div><div class=\"CTPFVNB-w-x\" style=\"left: 324px; height: 74.68751192730582px;\"></div><div class=\"CTPFVNB-w-x\" style=\"left: 330px; height: 70.01934792501578px;\"></div><div class=\"CTPFVNB-w-x CTPFVNB-w-M\" style=\"left: 336px; height: 70.01934792501578px;\"></div><div class=\"CTPFVNB-w-x CTPFVNB-w-M\" style=\"left: 342px; height: 65.35118392272574px;\"></div><div class=\"CTPFVNB-w-x\" style=\"left: 348px; height: 52.90274658328563px;\"></div><div class=\"CTPFVNB-w-x\" style=\"left: 354px; height: 66.90723859015576px;\"></div><div class=\"CTPFVNB-w-L\" style=\"left: 5px;\"></div><div class=\"CTPFVNB-w-L\" style=\"left: 47px;\"></div><div class=\"CTPFVNB-w-L\" style=\"left: 89px;\"></div><div class=\"CTPFVNB-w-L\" style=\"left: 131px;\"></div><div class=\"CTPFVNB-w-L\" style=\"left: 173px;\"></div><div class=\"CTPFVNB-w-L\" style=\"left: 215px;\"></div><div class=\"CTPFVNB-w-L\" style=\"left: 257px;\"></div><div class=\"CTPFVNB-w-L\" style=\"left: 299px;\"></div><div class=\"CTPFVNB-w-L\" style=\"left: 341px;\"></div><div aria-hidden=\"true\" class=\"CTPFVNB-w-J\" style=\"display: none;\"></div><div aria-hidden=\"true\" class=\"CTPFVNB-w-K\" style=\"display: none;\"></div></div>,\n",
       " <div class=\"CTPFVNB-w-o CTPFVNB-w-b\"><div class=\"CTPFVNB-w-x CTPFVNB-w-M\" style=\"left: 0px; height: 102.50102752293577px;\"></div><div class=\"CTPFVNB-w-x CTPFVNB-w-M\" style=\"left: 6px; height: 97.24381651376146px;\"></div><div class=\"CTPFVNB-w-x\" style=\"left: 12px; height: 85.57409174311927px;\"></div><div class=\"CTPFVNB-w-x\" style=\"left: 18px; height: 81.68418348623852px;\"></div><div class=\"CTPFVNB-w-x\" style=\"left: 24px; height: 77.02018348623854px;\"></div><div class=\"CTPFVNB-w-x\" style=\"left: 30px; height: 75.84932110091742px;\"></div><div class=\"CTPFVNB-w-x\" style=\"left: 36px; height: 75.84932110091742px;\"></div><div class=\"CTPFVNB-w-x CTPFVNB-w-M\" style=\"left: 42px; height: 85.57409174311927px;\"></div><div class=\"CTPFVNB-w-x CTPFVNB-w-M\" style=\"left: 48px; height: 81.68418348623852px;\"></div><div class=\"CTPFVNB-w-x\" style=\"left: 54px; height: 75.84932110091742px;\"></div><div class=\"CTPFVNB-w-x\" style=\"left: 60px; height: 78.96513761467891px;\"></div><div class=\"CTPFVNB-w-x\" style=\"left: 66px; height: 69.04587155963303px;\"></div><div class=\"CTPFVNB-w-x\" style=\"left: 72px; height: 69.04587155963303px;\"></div><div class=\"CTPFVNB-w-x\" style=\"left: 78px; height: 66.90642201834862px;\"></div><div class=\"CTPFVNB-w-x CTPFVNB-w-M\" style=\"left: 84px; height: 75.84932110091742px;\"></div><div class=\"CTPFVNB-w-x CTPFVNB-w-M\" style=\"left: 90px; height: 75.84932110091742px;\"></div><div class=\"CTPFVNB-w-x\" style=\"left: 96px; height: 81.68418348623852px;\"></div><div class=\"CTPFVNB-w-x\" style=\"left: 102px; height: 74.88073394495413px;\"></div><div class=\"CTPFVNB-w-x\" style=\"left: 108px; height: 66.90642201834862px;\"></div><div class=\"CTPFVNB-w-x CTPFVNB-w-f\" style=\"left: 114px; height: 66.12455045871559px;\"></div><div class=\"CTPFVNB-w-x\" style=\"left: 120px; height: 66.12455045871559px;\"></div><div class=\"CTPFVNB-w-x CTPFVNB-w-M\" style=\"left: 126px; height: 66.12455045871559px;\"></div><div class=\"CTPFVNB-w-x CTPFVNB-w-M\" style=\"left: 132px; height: 66.12455045871559px;\"></div><div class=\"CTPFVNB-w-x\" style=\"left: 138px; height: 66.12455045871559px;\"></div><div class=\"CTPFVNB-w-x\" style=\"left: 144px; height: 83.6291376146789px;\"></div><div class=\"CTPFVNB-w-x\" style=\"left: 150px; height: 83.6291376146789px;\"></div><div class=\"CTPFVNB-w-x\" style=\"left: 156px; height: 81.88256880733945px;\"></div><div class=\"CTPFVNB-w-x\" style=\"left: 162px; height: 73.90825688073394px;\"></div><div class=\"CTPFVNB-w-x CTPFVNB-w-M\" style=\"left: 168px; height: 75.84932110091742px;\"></div><div class=\"CTPFVNB-w-x CTPFVNB-w-M\" style=\"left: 174px; height: 75.84932110091742px;\"></div><div class=\"CTPFVNB-w-x\" style=\"left: 180px; height: 75.84932110091742px;\"></div><div class=\"CTPFVNB-w-x\" style=\"left: 186px; height: 82.66055045871559px;\"></div><div class=\"CTPFVNB-w-x\" style=\"left: 192px; height: 85.57409174311927px;\"></div><div class=\"CTPFVNB-w-x\" style=\"left: 198px; height: 97.7708990825688px;\"></div><div class=\"CTPFVNB-w-x\" style=\"left: 204px; height: 106px;\"></div><div class=\"CTPFVNB-w-x CTPFVNB-w-M\" style=\"left: 210px; height: 92.69456880733945px;\"></div><div class=\"CTPFVNB-w-x CTPFVNB-w-M\" style=\"left: 216px; height: 92.69456880733945px;\"></div><div class=\"CTPFVNB-w-x\" style=\"left: 222px; height: 98.0256880733945px;\"></div><div class=\"CTPFVNB-w-x\" style=\"left: 228px; height: 90.6348623853211px;\"></div><div class=\"CTPFVNB-w-x\" style=\"left: 234px; height: 79.54862385321101px;\"></div><div class=\"CTPFVNB-w-x\" style=\"left: 240px; height: 80.71559633027523px;\"></div><div class=\"CTPFVNB-w-x\" style=\"left: 246px; height: 80.71559633027523px;\"></div><div class=\"CTPFVNB-w-x CTPFVNB-w-M\" style=\"left: 252px; height: 66.12455045871559px;\"></div><div class=\"CTPFVNB-w-x CTPFVNB-w-M\" style=\"left: 258px; height: 81.68418348623852px;\"></div><div class=\"CTPFVNB-w-x\" style=\"left: 264px; height: 66.12455045871559px;\"></div><div class=\"CTPFVNB-w-x\" style=\"left: 270px; height: 66.12455045871559px;\"></div><div class=\"CTPFVNB-w-x\" style=\"left: 276px; height: 66.12455045871559px;\"></div><div class=\"CTPFVNB-w-x\" style=\"left: 282px; height: 73.90825688073394px;\"></div><div class=\"CTPFVNB-w-x\" style=\"left: 288px; height: 82.66055045871559px;\"></div><div class=\"CTPFVNB-w-x CTPFVNB-w-M\" style=\"left: 294px; height: 98.0256880733945px;\"></div><div class=\"CTPFVNB-w-x CTPFVNB-w-M\" style=\"left: 300px; height: 75.84932110091742px;\"></div><div class=\"CTPFVNB-w-x\" style=\"left: 306px; height: 66.12455045871559px;\"></div><div class=\"CTPFVNB-w-x\" style=\"left: 312px; height: 75.84932110091742px;\"></div><div class=\"CTPFVNB-w-x\" style=\"left: 318px; height: 75.84932110091742px;\"></div><div class=\"CTPFVNB-w-x\" style=\"left: 324px; height: 82.66055045871559px;\"></div><div class=\"CTPFVNB-w-x\" style=\"left: 330px; height: 90.44036697247707px;\"></div><div class=\"CTPFVNB-w-x CTPFVNB-w-M\" style=\"left: 336px; height: 97.3274495412844px;\"></div><div class=\"CTPFVNB-w-x CTPFVNB-w-M\" style=\"left: 342px; height: 81.68418348623852px;\"></div><div class=\"CTPFVNB-w-x\" style=\"left: 348px; height: 66.12455045871559px;\"></div><div class=\"CTPFVNB-w-x\" style=\"left: 354px; height: 75.84932110091742px;\"></div><div class=\"CTPFVNB-w-L\" style=\"left: 5px;\"></div><div class=\"CTPFVNB-w-L\" style=\"left: 47px;\"></div><div class=\"CTPFVNB-w-L\" style=\"left: 89px;\"></div><div class=\"CTPFVNB-w-L\" style=\"left: 131px;\"></div><div class=\"CTPFVNB-w-L\" style=\"left: 173px;\"></div><div class=\"CTPFVNB-w-L\" style=\"left: 215px;\"></div><div class=\"CTPFVNB-w-L\" style=\"left: 257px;\"></div><div class=\"CTPFVNB-w-L\" style=\"left: 299px;\"></div><div class=\"CTPFVNB-w-L\" style=\"left: 341px;\"></div><div aria-hidden=\"true\" class=\"CTPFVNB-w-J\" style=\"display: none;\"></div><div aria-hidden=\"true\" class=\"CTPFVNB-w-K\" style=\"display: none;\"></div></div>,\n",
       " <div class=\"CTPFVNB-w-o CTPFVNB-w-b\"><div class=\"CTPFVNB-w-x CTPFVNB-w-M\" style=\"left: 0px; height: 102.95719706651462px;\"></div><div class=\"CTPFVNB-w-x CTPFVNB-w-M\" style=\"left: 6px; height: 102.95719706651462px;\"></div><div class=\"CTPFVNB-w-x\" style=\"left: 12px; height: 102.95719706651462px;\"></div><div class=\"CTPFVNB-w-x\" style=\"left: 18px; height: 102.95719706651462px;\"></div><div class=\"CTPFVNB-w-x\" style=\"left: 24px; height: 95.8691335207723px;\"></div><div class=\"CTPFVNB-w-x\" style=\"left: 30px; height: 92.34698491968305px;\"></div><div class=\"CTPFVNB-w-x\" style=\"left: 36px; height: 95.3272645052201px;\"></div><div class=\"CTPFVNB-w-x CTPFVNB-w-M\" style=\"left: 42px; height: 102.95719706651462px;\"></div><div class=\"CTPFVNB-w-x CTPFVNB-w-M\" style=\"left: 48px; height: 101.70464599594975px;\"></div><div class=\"CTPFVNB-w-x\" style=\"left: 54px; height: 91.90932148404475px;\"></div><div class=\"CTPFVNB-w-x\" style=\"left: 60px; height: 99.62053439767209px;\"></div><div class=\"CTPFVNB-w-x\" style=\"left: 66px; height: 90.74221898900926px;\"></div><div class=\"CTPFVNB-w-x\" style=\"left: 72px; height: 91.97184483199308px;\"></div><div class=\"CTPFVNB-w-x\" style=\"left: 78px; height: 86.90745364817838px;\"></div><div class=\"CTPFVNB-w-x CTPFVNB-w-M\" style=\"left: 84px; height: 99.51841292935649px;\"></div><div class=\"CTPFVNB-w-x CTPFVNB-w-M\" style=\"left: 90px; height: 86.49063132852284px;\"></div><div class=\"CTPFVNB-w-x\" style=\"left: 96px; height: 91.61754586028587px;\"></div><div class=\"CTPFVNB-w-x\" style=\"left: 102px; height: 102.95719706651462px;\"></div><div class=\"CTPFVNB-w-x\" style=\"left: 108px; height: 86.90745364817838px;\"></div><div class=\"CTPFVNB-w-x\" style=\"left: 114px; height: 86.90745364817838px;\"></div><div class=\"CTPFVNB-w-x CTPFVNB-w-f\" style=\"left: 120px; height: 83.57287509093412px;\"></div><div class=\"CTPFVNB-w-x CTPFVNB-w-M\" style=\"left: 126px; height: 93.78502192249465px;\"></div><div class=\"CTPFVNB-w-x CTPFVNB-w-M\" style=\"left: 132px; height: 86.49063132852284px;\"></div><div class=\"CTPFVNB-w-x\" style=\"left: 138px; height: 86.42810798057451px;\"></div><div class=\"CTPFVNB-w-x\" style=\"left: 144px; height: 92.32614380370029px;\"></div><div class=\"CTPFVNB-w-x\" style=\"left: 150px; height: 93.24315290694246px;\"></div><div class=\"CTPFVNB-w-x\" style=\"left: 156px; height: 99.62053439767209px;\"></div><div class=\"CTPFVNB-w-x\" style=\"left: 162px; height: 101.70464599594975px;\"></div><div class=\"CTPFVNB-w-x CTPFVNB-w-M\" style=\"left: 168px; height: 101.70464599594975px;\"></div><div class=\"CTPFVNB-w-x CTPFVNB-w-M\" style=\"left: 174px; height: 99.37252511747704px;\"></div><div class=\"CTPFVNB-w-x\" style=\"left: 180px; height: 102.95719706651462px;\"></div><div class=\"CTPFVNB-w-x\" style=\"left: 186px; height: 99.37252511747704px;\"></div><div class=\"CTPFVNB-w-x\" style=\"left: 192px; height: 99.51841292935649px;\"></div><div class=\"CTPFVNB-w-x\" style=\"left: 198px; height: 106px;\"></div><div class=\"CTPFVNB-w-x\" style=\"left: 204px; height: 106px;\"></div><div class=\"CTPFVNB-w-x CTPFVNB-w-M\" style=\"left: 210px; height: 106px;\"></div><div class=\"CTPFVNB-w-x CTPFVNB-w-M\" style=\"left: 216px; height: 102.95719706651462px;\"></div><div class=\"CTPFVNB-w-x\" style=\"left: 222px; height: 100.24576787715537px;\"></div><div class=\"CTPFVNB-w-x\" style=\"left: 228px; height: 99.37252511747704px;\"></div><div class=\"CTPFVNB-w-x\" style=\"left: 234px; height: 99.37252511747704px;\"></div><div class=\"CTPFVNB-w-x\" style=\"left: 240px; height: 95.49399343308232px;\"></div><div class=\"CTPFVNB-w-x\" style=\"left: 246px; height: 97.74483395922219px;\"></div><div class=\"CTPFVNB-w-x CTPFVNB-w-M\" style=\"left: 252px; height: 101.70464599594975px;\"></div><div class=\"CTPFVNB-w-x CTPFVNB-w-M\" style=\"left: 258px; height: 99.37252511747704px;\"></div><div class=\"CTPFVNB-w-x\" style=\"left: 264px; height: 97.74483395922219px;\"></div><div class=\"CTPFVNB-w-x\" style=\"left: 270px; height: 102.95719706651462px;\"></div><div class=\"CTPFVNB-w-x\" style=\"left: 276px; height: 91.49249916438922px;\"></div><div class=\"CTPFVNB-w-x\" style=\"left: 282px; height: 95.72324570889286px;\"></div><div class=\"CTPFVNB-w-x\" style=\"left: 288px; height: 95.72324570889286px;\"></div><div class=\"CTPFVNB-w-x CTPFVNB-w-M\" style=\"left: 294px; height: 99.62053439767209px;\"></div><div class=\"CTPFVNB-w-x CTPFVNB-w-M\" style=\"left: 300px; height: 101.70464599594975px;\"></div><div class=\"CTPFVNB-w-x\" style=\"left: 306px; height: 91.49249916438922px;\"></div><div class=\"CTPFVNB-w-x\" style=\"left: 312px; height: 101.70464599594975px;\"></div><div class=\"CTPFVNB-w-x\" style=\"left: 318px; height: 99.37252511747704px;\"></div><div class=\"CTPFVNB-w-x\" style=\"left: 324px; height: 89.05408859440436px;\"></div><div class=\"CTPFVNB-w-x\" style=\"left: 330px; height: 92.3886671516486px;\"></div><div class=\"CTPFVNB-w-x CTPFVNB-w-M\" style=\"left: 336px; height: 102.95719706651462px;\"></div><div class=\"CTPFVNB-w-x CTPFVNB-w-M\" style=\"left: 342px; height: 99.37252511747704px;\"></div><div class=\"CTPFVNB-w-x\" style=\"left: 348px; height: 99.20371207801655px;\"></div><div class=\"CTPFVNB-w-x\" style=\"left: 354px; height: 99.68514185721868px;\"></div><div class=\"CTPFVNB-w-L\" style=\"left: 5px;\"></div><div class=\"CTPFVNB-w-L\" style=\"left: 47px;\"></div><div class=\"CTPFVNB-w-L\" style=\"left: 89px;\"></div><div class=\"CTPFVNB-w-L\" style=\"left: 131px;\"></div><div class=\"CTPFVNB-w-L\" style=\"left: 173px;\"></div><div class=\"CTPFVNB-w-L\" style=\"left: 215px;\"></div><div class=\"CTPFVNB-w-L\" style=\"left: 257px;\"></div><div class=\"CTPFVNB-w-L\" style=\"left: 299px;\"></div><div class=\"CTPFVNB-w-L\" style=\"left: 341px;\"></div><div aria-hidden=\"true\" class=\"CTPFVNB-w-J\" style=\"display: none;\"></div><div aria-hidden=\"true\" class=\"CTPFVNB-w-K\" style=\"display: none;\"></div></div>,\n",
       " <div class=\"CTPFVNB-w-o CTPFVNB-w-b\"><div class=\"CTPFVNB-w-x CTPFVNB-w-M\" style=\"left: 0px; height: 103.33833600282505px;\"></div><div class=\"CTPFVNB-w-x CTPFVNB-w-M\" style=\"left: 6px; height: 106px;\"></div><div class=\"CTPFVNB-w-x\" style=\"left: 12px; height: 73.26995497597458px;\"></div><div class=\"CTPFVNB-w-x\" style=\"left: 18px; height: 81.09452522984954px;\"></div><div class=\"CTPFVNB-w-x\" style=\"left: 24px; height: 73.26995497597458px;\"></div><div class=\"CTPFVNB-w-x\" style=\"left: 30px; height: 70.9171028237757px;\"></div><div class=\"CTPFVNB-w-x\" style=\"left: 36px; height: 79.64939274318648px;\"></div><div class=\"CTPFVNB-w-x CTPFVNB-w-M\" style=\"left: 42px; height: 79.64939274318648px;\"></div><div class=\"CTPFVNB-w-x CTPFVNB-w-M\" style=\"left: 48px; height: 87.83090136333254px;\"></div><div class=\"CTPFVNB-w-x\" style=\"left: 54px; height: 74.72979278858887px;\"></div><div class=\"CTPFVNB-w-x\" style=\"left: 60px; height: 75.11881550238992px;\"></div><div class=\"CTPFVNB-w-x\" style=\"left: 66px; height: 74.99716235133874px;\"></div><div class=\"CTPFVNB-w-x\" style=\"left: 72px; height: 70.98661891009067px;\"></div><div class=\"CTPFVNB-w-x\" style=\"left: 78px; height: 73.26995497597458px;\"></div><div class=\"CTPFVNB-w-x CTPFVNB-w-M\" style=\"left: 84px; height: 73.26995497597458px;\"></div><div class=\"CTPFVNB-w-x CTPFVNB-w-M\" style=\"left: 90px; height: 85.15720573583383px;\"></div><div class=\"CTPFVNB-w-x\" style=\"left: 96px; height: 71.12030369146561px;\"></div><div class=\"CTPFVNB-w-x\" style=\"left: 102px; height: 73.26995497597458px;\"></div><div class=\"CTPFVNB-w-x\" style=\"left: 108px; height: 73.26995497597458px;\"></div><div class=\"CTPFVNB-w-x\" style=\"left: 114px; height: 74.72979278858887px;\"></div><div class=\"CTPFVNB-w-x\" style=\"left: 120px; height: 80.53304914807481px;\"></div><div class=\"CTPFVNB-w-x CTPFVNB-w-M\" style=\"left: 126px; height: 74.72979278858887px;\"></div><div class=\"CTPFVNB-w-x CTPFVNB-w-M\" style=\"left: 132px; height: 79.94349926221135px;\"></div><div class=\"CTPFVNB-w-x\" style=\"left: 138px; height: 73.26995497597458px;\"></div><div class=\"CTPFVNB-w-x\" style=\"left: 144px; height: 79.64939274318648px;\"></div><div class=\"CTPFVNB-w-x\" style=\"left: 150px; height: 73.26995497597458px;\"></div><div class=\"CTPFVNB-w-x\" style=\"left: 156px; height: 70.9171028237757px;\"></div><div class=\"CTPFVNB-w-x\" style=\"left: 162px; height: 70.9171028237757px;\"></div><div class=\"CTPFVNB-w-x CTPFVNB-w-M\" style=\"left: 168px; height: 71.12030369146561px;\"></div><div class=\"CTPFVNB-w-x CTPFVNB-w-M\" style=\"left: 174px; height: 79.94349926221135px;\"></div><div class=\"CTPFVNB-w-x\" style=\"left: 180px; height: 71.12030369146561px;\"></div><div class=\"CTPFVNB-w-x\" style=\"left: 186px; height: 79.64939274318648px;\"></div><div class=\"CTPFVNB-w-x\" style=\"left: 192px; height: 80.158731760225px;\"></div><div class=\"CTPFVNB-w-x\" style=\"left: 198px; height: 96.24903204651221px;\"></div><div class=\"CTPFVNB-w-x\" style=\"left: 204px; height: 100.4387130948027px;\"></div><div class=\"CTPFVNB-w-x CTPFVNB-w-M\" style=\"left: 210px; height: 93.57533641901351px;\"></div><div class=\"CTPFVNB-w-x CTPFVNB-w-M\" style=\"left: 216px; height: 79.9180991537501px;\"></div><div class=\"CTPFVNB-w-x\" style=\"left: 222px; height: 79.9180991537501px;\"></div><div class=\"CTPFVNB-w-x\" style=\"left: 228px; height: 68.4466080639669px;\"></div><div class=\"CTPFVNB-w-x\" style=\"left: 234px; height: 68.4466080639669px;\"></div><div class=\"CTPFVNB-w-x\" style=\"left: 240px; height: 71.81279085898777px;\"></div><div class=\"CTPFVNB-w-x\" style=\"left: 246px; height: 78.87402101121187px;\"></div><div class=\"CTPFVNB-w-x CTPFVNB-w-M\" style=\"left: 252px; height: 78.87402101121187px;\"></div><div class=\"CTPFVNB-w-x CTPFVNB-w-M\" style=\"left: 258px; height: 69.11503197084159px;\"></div><div class=\"CTPFVNB-w-x CTPFVNB-w-f\" style=\"left: 264px; height: 66.97607546884262px;\"></div><div class=\"CTPFVNB-w-x\" style=\"left: 270px; height: 71.2553253206543px;\"></div><div class=\"CTPFVNB-w-x\" style=\"left: 276px; height: 73.26995497597458px;\"></div><div class=\"CTPFVNB-w-x\" style=\"left: 282px; height: 74.72979278858887px;\"></div><div class=\"CTPFVNB-w-x\" style=\"left: 288px; height: 75.26453191408861px;\"></div><div class=\"CTPFVNB-w-x CTPFVNB-w-M\" style=\"left: 294px; height: 74.72979278858887px;\"></div><div class=\"CTPFVNB-w-x CTPFVNB-w-M\" style=\"left: 300px; height: 88.23195570745735px;\"></div><div class=\"CTPFVNB-w-x\" style=\"left: 306px; height: 73.26995497597458px;\"></div><div class=\"CTPFVNB-w-x\" style=\"left: 312px; height: 73.26995497597458px;\"></div><div class=\"CTPFVNB-w-x\" style=\"left: 318px; height: 73.26995497597458px;\"></div><div class=\"CTPFVNB-w-x\" style=\"left: 324px; height: 74.72979278858887px;\"></div><div class=\"CTPFVNB-w-x\" style=\"left: 330px; height: 85.34570127757249px;\"></div><div class=\"CTPFVNB-w-x CTPFVNB-w-M\" style=\"left: 336px; height: 79.67612969946147px;\"></div><div class=\"CTPFVNB-w-x CTPFVNB-w-M\" style=\"left: 342px; height: 87.49802625770894px;\"></div><div class=\"CTPFVNB-w-x\" style=\"left: 348px; height: 74.72979278858887px;\"></div><div class=\"CTPFVNB-w-x\" style=\"left: 354px; height: 79.94349926221135px;\"></div><div class=\"CTPFVNB-w-L\" style=\"left: 5px;\"></div><div class=\"CTPFVNB-w-L\" style=\"left: 47px;\"></div><div class=\"CTPFVNB-w-L\" style=\"left: 89px;\"></div><div class=\"CTPFVNB-w-L\" style=\"left: 131px;\"></div><div class=\"CTPFVNB-w-L\" style=\"left: 173px;\"></div><div class=\"CTPFVNB-w-L\" style=\"left: 215px;\"></div><div class=\"CTPFVNB-w-L\" style=\"left: 257px;\"></div><div class=\"CTPFVNB-w-L\" style=\"left: 299px;\"></div><div class=\"CTPFVNB-w-L\" style=\"left: 341px;\"></div><div aria-hidden=\"true\" class=\"CTPFVNB-w-J\" style=\"display: none;\"></div><div aria-hidden=\"true\" class=\"CTPFVNB-w-K\" style=\"display: none;\"></div></div>,\n",
       " <div class=\"CTPFVNB-w-o CTPFVNB-w-b\"><div class=\"CTPFVNB-w-x CTPFVNB-w-M\" style=\"left: 0px; height: 105.23884476741681px;\"></div><div class=\"CTPFVNB-w-x CTPFVNB-w-M\" style=\"left: 6px; height: 99.91075813933449px;\"></div><div class=\"CTPFVNB-w-x\" style=\"left: 12px; height: 106px;\"></div><div class=\"CTPFVNB-w-x\" style=\"left: 18px; height: 94.58267151125217px;\"></div><div class=\"CTPFVNB-w-x\" style=\"left: 24px; height: 94.58267151125217px;\"></div><div class=\"CTPFVNB-w-x\" style=\"left: 30px; height: 88.93489968548492px;\"></div><div class=\"CTPFVNB-w-x\" style=\"left: 36px; height: 94.58267151125217px;\"></div><div class=\"CTPFVNB-w-x CTPFVNB-w-M\" style=\"left: 42px; height: 94.58267151125217px;\"></div><div class=\"CTPFVNB-w-x CTPFVNB-w-M\" style=\"left: 48px; height: 85.85831023538367px;\"></div><div class=\"CTPFVNB-w-x\" style=\"left: 54px; height: 94.58267151125217px;\"></div><div class=\"CTPFVNB-w-x\" style=\"left: 60px; height: 85.85831023538367px;\"></div><div class=\"CTPFVNB-w-x\" style=\"left: 66px; height: 91.64461231348106px;\"></div><div class=\"CTPFVNB-w-x CTPFVNB-w-f\" style=\"left: 72px; height: 81.29137883988453px;\"></div><div class=\"CTPFVNB-w-x\" style=\"left: 78px; height: 87.3821430110152px;\"></div><div class=\"CTPFVNB-w-x CTPFVNB-w-M\" style=\"left: 84px; height: 87.3821430110152px;\"></div><div class=\"CTPFVNB-w-x CTPFVNB-w-M\" style=\"left: 90px; height: 81.44360988640118px;\"></div><div class=\"CTPFVNB-w-x\" style=\"left: 96px; height: 94.84146429033046px;\"></div><div class=\"CTPFVNB-w-x\" style=\"left: 102px; height: 86.0105412819003px;\"></div><div class=\"CTPFVNB-w-x\" style=\"left: 108px; height: 87.2283896540334px;\"></div><div class=\"CTPFVNB-w-x\" style=\"left: 114px; height: 81.44360988640118px;\"></div><div class=\"CTPFVNB-w-x\" style=\"left: 120px; height: 81.90030302595109px;\"></div><div class=\"CTPFVNB-w-x CTPFVNB-w-M\" style=\"left: 126px; height: 81.44360988640118px;\"></div><div class=\"CTPFVNB-w-x CTPFVNB-w-M\" style=\"left: 132px; height: 87.83731384009995px;\"></div><div class=\"CTPFVNB-w-x\" style=\"left: 138px; height: 87.6409357900935px;\"></div><div class=\"CTPFVNB-w-x\" style=\"left: 144px; height: 87.6409357900935px;\"></div><div class=\"CTPFVNB-w-x\" style=\"left: 150px; height: 87.6409357900935px;\"></div><div class=\"CTPFVNB-w-x\" style=\"left: 156px; height: 87.62571268544183px;\"></div><div class=\"CTPFVNB-w-x\" style=\"left: 162px; height: 86.91022676681364px;\"></div><div class=\"CTPFVNB-w-x CTPFVNB-w-M\" style=\"left: 168px; height: 93.42571555772572px;\"></div><div class=\"CTPFVNB-w-x CTPFVNB-w-M\" style=\"left: 174px; height: 88.29400697964986px;\"></div><div class=\"CTPFVNB-w-x\" style=\"left: 180px; height: 87.6409357900935px;\"></div><div class=\"CTPFVNB-w-x\" style=\"left: 186px; height: 87.6409357900935px;\"></div><div class=\"CTPFVNB-w-x\" style=\"left: 192px; height: 86.11862532492711px;\"></div><div class=\"CTPFVNB-w-x\" style=\"left: 198px; height: 91.90340509255934px;\"></div><div class=\"CTPFVNB-w-x\" style=\"left: 204px; height: 91.7511740460427px;\"></div><div class=\"CTPFVNB-w-x CTPFVNB-w-M\" style=\"left: 210px; height: 87.6409357900935px;\"></div><div class=\"CTPFVNB-w-x CTPFVNB-w-M\" style=\"left: 216px; height: 92.40424523559909px;\"></div><div class=\"CTPFVNB-w-x\" style=\"left: 222px; height: 94.84146429033046px;\"></div><div class=\"CTPFVNB-w-x\" style=\"left: 228px; height: 91.90340509255934px;\"></div><div class=\"CTPFVNB-w-x\" style=\"left: 234px; height: 86.11862532492711px;\"></div><div class=\"CTPFVNB-w-x\" style=\"left: 240px; height: 86.11862532492711px;\"></div><div class=\"CTPFVNB-w-x\" style=\"left: 246px; height: 82.20476511898435px;\"></div><div class=\"CTPFVNB-w-x CTPFVNB-w-M\" style=\"left: 252px; height: 82.20476511898435px;\"></div><div class=\"CTPFVNB-w-x CTPFVNB-w-M\" style=\"left: 258px; height: 86.0105412819003px;\"></div><div class=\"CTPFVNB-w-x\" style=\"left: 264px; height: 87.6409357900935px;\"></div><div class=\"CTPFVNB-w-x\" style=\"left: 270px; height: 86.11862532492711px;\"></div><div class=\"CTPFVNB-w-x\" style=\"left: 276px; height: 81.44360988640118px;\"></div><div class=\"CTPFVNB-w-x\" style=\"left: 282px; height: 86.11862532492711px;\"></div><div class=\"CTPFVNB-w-x\" style=\"left: 288px; height: 87.6409357900935px;\"></div><div class=\"CTPFVNB-w-x CTPFVNB-w-M\" style=\"left: 294px; height: 86.7716965144835px;\"></div><div class=\"CTPFVNB-w-x CTPFVNB-w-M\" style=\"left: 300px; height: 89.81631744481625px;\"></div><div class=\"CTPFVNB-w-x\" style=\"left: 306px; height: 87.6409357900935px;\"></div><div class=\"CTPFVNB-w-x\" style=\"left: 312px; height: 81.44360988640118px;\"></div><div class=\"CTPFVNB-w-x\" style=\"left: 318px; height: 81.44360988640118px;\"></div><div class=\"CTPFVNB-w-x\" style=\"left: 324px; height: 82.63253435969612px;\"></div><div class=\"CTPFVNB-w-x\" style=\"left: 330px; height: 87.6409357900935px;\"></div><div class=\"CTPFVNB-w-x CTPFVNB-w-M\" style=\"left: 336px; height: 86.7716965144835px;\"></div><div class=\"CTPFVNB-w-x CTPFVNB-w-M\" style=\"left: 342px; height: 90.57747267739943px;\"></div><div class=\"CTPFVNB-w-x\" style=\"left: 348px; height: 87.6409357900935px;\"></div><div class=\"CTPFVNB-w-x\" style=\"left: 354px; height: 81.44360988640118px;\"></div><div class=\"CTPFVNB-w-L\" style=\"left: 5px;\"></div><div class=\"CTPFVNB-w-L\" style=\"left: 47px;\"></div><div class=\"CTPFVNB-w-L\" style=\"left: 89px;\"></div><div class=\"CTPFVNB-w-L\" style=\"left: 131px;\"></div><div class=\"CTPFVNB-w-L\" style=\"left: 173px;\"></div><div class=\"CTPFVNB-w-L\" style=\"left: 215px;\"></div><div class=\"CTPFVNB-w-L\" style=\"left: 257px;\"></div><div class=\"CTPFVNB-w-L\" style=\"left: 299px;\"></div><div class=\"CTPFVNB-w-L\" style=\"left: 341px;\"></div><div aria-hidden=\"true\" class=\"CTPFVNB-w-J\" style=\"display: none;\"></div><div aria-hidden=\"true\" class=\"CTPFVNB-w-K\" style=\"display: none;\"></div></div>]"
      ]
     },
     "execution_count": 22,
     "metadata": {},
     "output_type": "execute_result"
    }
   ],
   "source": [
    "cities = s.findAll('div', 'CTPFVNB-w-o')\n",
    "cities"
   ]
  },
  {
   "cell_type": "code",
   "execution_count": 24,
   "metadata": {},
   "outputs": [],
   "source": [
    "hlist = []\n",
    "for bar in cities[0].findAll('div', 'CTPFVNB-w-x'):\n",
    "    hlist.append(float(bar['style'].split('height: ')[1].replace('px;',''))*pph)"
   ]
  },
  {
   "cell_type": "code",
   "execution_count": 25,
   "metadata": {},
   "outputs": [
    {
     "data": {
      "text/html": [
       "<div>\n",
       "<style scoped>\n",
       "    .dataframe tbody tr th:only-of-type {\n",
       "        vertical-align: middle;\n",
       "    }\n",
       "\n",
       "    .dataframe tbody tr th {\n",
       "        vertical-align: top;\n",
       "    }\n",
       "\n",
       "    .dataframe thead th {\n",
       "        text-align: right;\n",
       "    }\n",
       "</style>\n",
       "<table border=\"1\" class=\"dataframe\">\n",
       "  <thead>\n",
       "    <tr style=\"text-align: right;\">\n",
       "      <th></th>\n",
       "      <th>price</th>\n",
       "    </tr>\n",
       "  </thead>\n",
       "  <tbody>\n",
       "    <tr>\n",
       "      <th>0</th>\n",
       "      <td>559.447296</td>\n",
       "    </tr>\n",
       "    <tr>\n",
       "      <th>1</th>\n",
       "      <td>550.046670</td>\n",
       "    </tr>\n",
       "    <tr>\n",
       "      <th>2</th>\n",
       "      <td>520.014668</td>\n",
       "    </tr>\n",
       "    <tr>\n",
       "      <th>3</th>\n",
       "      <td>410.007334</td>\n",
       "    </tr>\n",
       "    <tr>\n",
       "      <th>4</th>\n",
       "      <td>380.005334</td>\n",
       "    </tr>\n",
       "    <tr>\n",
       "      <th>5</th>\n",
       "      <td>350.003334</td>\n",
       "    </tr>\n",
       "    <tr>\n",
       "      <th>6</th>\n",
       "      <td>350.003334</td>\n",
       "    </tr>\n",
       "    <tr>\n",
       "      <th>7</th>\n",
       "      <td>400.006667</td>\n",
       "    </tr>\n",
       "    <tr>\n",
       "      <th>8</th>\n",
       "      <td>380.005334</td>\n",
       "    </tr>\n",
       "    <tr>\n",
       "      <th>9</th>\n",
       "      <td>350.003334</td>\n",
       "    </tr>\n",
       "    <tr>\n",
       "      <th>10</th>\n",
       "      <td>350.003334</td>\n",
       "    </tr>\n",
       "    <tr>\n",
       "      <th>11</th>\n",
       "      <td>341.022735</td>\n",
       "    </tr>\n",
       "    <tr>\n",
       "      <th>12</th>\n",
       "      <td>392.026135</td>\n",
       "    </tr>\n",
       "    <tr>\n",
       "      <th>13</th>\n",
       "      <td>368.024535</td>\n",
       "    </tr>\n",
       "    <tr>\n",
       "      <th>14</th>\n",
       "      <td>360.004000</td>\n",
       "    </tr>\n",
       "    <tr>\n",
       "      <th>15</th>\n",
       "      <td>330.002000</td>\n",
       "    </tr>\n",
       "    <tr>\n",
       "      <th>16</th>\n",
       "      <td>360.004000</td>\n",
       "    </tr>\n",
       "    <tr>\n",
       "      <th>17</th>\n",
       "      <td>360.004000</td>\n",
       "    </tr>\n",
       "    <tr>\n",
       "      <th>18</th>\n",
       "      <td>341.022735</td>\n",
       "    </tr>\n",
       "    <tr>\n",
       "      <th>19</th>\n",
       "      <td>300.000000</td>\n",
       "    </tr>\n",
       "    <tr>\n",
       "      <th>20</th>\n",
       "      <td>341.022735</td>\n",
       "    </tr>\n",
       "    <tr>\n",
       "      <th>21</th>\n",
       "      <td>330.002000</td>\n",
       "    </tr>\n",
       "    <tr>\n",
       "      <th>22</th>\n",
       "      <td>330.002000</td>\n",
       "    </tr>\n",
       "    <tr>\n",
       "      <th>23</th>\n",
       "      <td>330.002000</td>\n",
       "    </tr>\n",
       "    <tr>\n",
       "      <th>24</th>\n",
       "      <td>330.002000</td>\n",
       "    </tr>\n",
       "    <tr>\n",
       "      <th>25</th>\n",
       "      <td>350.003334</td>\n",
       "    </tr>\n",
       "    <tr>\n",
       "      <th>26</th>\n",
       "      <td>350.003334</td>\n",
       "    </tr>\n",
       "    <tr>\n",
       "      <th>27</th>\n",
       "      <td>341.022735</td>\n",
       "    </tr>\n",
       "    <tr>\n",
       "      <th>28</th>\n",
       "      <td>300.000000</td>\n",
       "    </tr>\n",
       "    <tr>\n",
       "      <th>29</th>\n",
       "      <td>300.000000</td>\n",
       "    </tr>\n",
       "    <tr>\n",
       "      <th>30</th>\n",
       "      <td>389.025935</td>\n",
       "    </tr>\n",
       "    <tr>\n",
       "      <th>31</th>\n",
       "      <td>413.027535</td>\n",
       "    </tr>\n",
       "    <tr>\n",
       "      <th>32</th>\n",
       "      <td>473.031535</td>\n",
       "    </tr>\n",
       "    <tr>\n",
       "      <th>33</th>\n",
       "      <td>512.724182</td>\n",
       "    </tr>\n",
       "    <tr>\n",
       "      <th>34</th>\n",
       "      <td>416.027735</td>\n",
       "    </tr>\n",
       "    <tr>\n",
       "      <th>35</th>\n",
       "      <td>597.039803</td>\n",
       "    </tr>\n",
       "    <tr>\n",
       "      <th>36</th>\n",
       "      <td>482.032135</td>\n",
       "    </tr>\n",
       "    <tr>\n",
       "      <th>37</th>\n",
       "      <td>440.029335</td>\n",
       "    </tr>\n",
       "    <tr>\n",
       "      <th>38</th>\n",
       "      <td>463.840923</td>\n",
       "    </tr>\n",
       "    <tr>\n",
       "      <th>39</th>\n",
       "      <td>437.029135</td>\n",
       "    </tr>\n",
       "    <tr>\n",
       "      <th>40</th>\n",
       "      <td>341.022735</td>\n",
       "    </tr>\n",
       "    <tr>\n",
       "      <th>41</th>\n",
       "      <td>392.026135</td>\n",
       "    </tr>\n",
       "    <tr>\n",
       "      <th>42</th>\n",
       "      <td>350.003334</td>\n",
       "    </tr>\n",
       "    <tr>\n",
       "      <th>43</th>\n",
       "      <td>341.022735</td>\n",
       "    </tr>\n",
       "    <tr>\n",
       "      <th>44</th>\n",
       "      <td>300.000000</td>\n",
       "    </tr>\n",
       "    <tr>\n",
       "      <th>45</th>\n",
       "      <td>330.002000</td>\n",
       "    </tr>\n",
       "    <tr>\n",
       "      <th>46</th>\n",
       "      <td>300.000000</td>\n",
       "    </tr>\n",
       "    <tr>\n",
       "      <th>47</th>\n",
       "      <td>341.022735</td>\n",
       "    </tr>\n",
       "    <tr>\n",
       "      <th>48</th>\n",
       "      <td>367.024468</td>\n",
       "    </tr>\n",
       "    <tr>\n",
       "      <th>49</th>\n",
       "      <td>391.026068</td>\n",
       "    </tr>\n",
       "    <tr>\n",
       "      <th>50</th>\n",
       "      <td>341.022735</td>\n",
       "    </tr>\n",
       "    <tr>\n",
       "      <th>51</th>\n",
       "      <td>341.022735</td>\n",
       "    </tr>\n",
       "    <tr>\n",
       "      <th>52</th>\n",
       "      <td>380.005334</td>\n",
       "    </tr>\n",
       "    <tr>\n",
       "      <th>53</th>\n",
       "      <td>341.022735</td>\n",
       "    </tr>\n",
       "    <tr>\n",
       "      <th>54</th>\n",
       "      <td>367.024468</td>\n",
       "    </tr>\n",
       "    <tr>\n",
       "      <th>55</th>\n",
       "      <td>417.027802</td>\n",
       "    </tr>\n",
       "    <tr>\n",
       "      <th>56</th>\n",
       "      <td>391.026068</td>\n",
       "    </tr>\n",
       "    <tr>\n",
       "      <th>57</th>\n",
       "      <td>367.024468</td>\n",
       "    </tr>\n",
       "    <tr>\n",
       "      <th>58</th>\n",
       "      <td>300.000000</td>\n",
       "    </tr>\n",
       "    <tr>\n",
       "      <th>59</th>\n",
       "      <td>380.005334</td>\n",
       "    </tr>\n",
       "  </tbody>\n",
       "</table>\n",
       "</div>"
      ],
      "text/plain": [
       "         price\n",
       "0   559.447296\n",
       "1   550.046670\n",
       "2   520.014668\n",
       "3   410.007334\n",
       "4   380.005334\n",
       "5   350.003334\n",
       "6   350.003334\n",
       "7   400.006667\n",
       "8   380.005334\n",
       "9   350.003334\n",
       "10  350.003334\n",
       "11  341.022735\n",
       "12  392.026135\n",
       "13  368.024535\n",
       "14  360.004000\n",
       "15  330.002000\n",
       "16  360.004000\n",
       "17  360.004000\n",
       "18  341.022735\n",
       "19  300.000000\n",
       "20  341.022735\n",
       "21  330.002000\n",
       "22  330.002000\n",
       "23  330.002000\n",
       "24  330.002000\n",
       "25  350.003334\n",
       "26  350.003334\n",
       "27  341.022735\n",
       "28  300.000000\n",
       "29  300.000000\n",
       "30  389.025935\n",
       "31  413.027535\n",
       "32  473.031535\n",
       "33  512.724182\n",
       "34  416.027735\n",
       "35  597.039803\n",
       "36  482.032135\n",
       "37  440.029335\n",
       "38  463.840923\n",
       "39  437.029135\n",
       "40  341.022735\n",
       "41  392.026135\n",
       "42  350.003334\n",
       "43  341.022735\n",
       "44  300.000000\n",
       "45  330.002000\n",
       "46  300.000000\n",
       "47  341.022735\n",
       "48  367.024468\n",
       "49  391.026068\n",
       "50  341.022735\n",
       "51  341.022735\n",
       "52  380.005334\n",
       "53  341.022735\n",
       "54  367.024468\n",
       "55  417.027802\n",
       "56  391.026068\n",
       "57  367.024468\n",
       "58  300.000000\n",
       "59  380.005334"
      ]
     },
     "execution_count": 25,
     "metadata": {},
     "output_type": "execute_result"
    }
   ],
   "source": [
    "fares = pd.DataFrame(hlist, columns=['price'])\n",
    "fares"
   ]
  },
  {
   "cell_type": "code",
   "execution_count": 28,
   "metadata": {},
   "outputs": [
    {
     "data": {
      "text/html": [
       "<div>\n",
       "<style scoped>\n",
       "    .dataframe tbody tr th:only-of-type {\n",
       "        vertical-align: middle;\n",
       "    }\n",
       "\n",
       "    .dataframe tbody tr th {\n",
       "        vertical-align: top;\n",
       "    }\n",
       "\n",
       "    .dataframe thead th {\n",
       "        text-align: right;\n",
       "    }\n",
       "</style>\n",
       "<table border=\"1\" class=\"dataframe\">\n",
       "  <thead>\n",
       "    <tr style=\"text-align: right;\">\n",
       "      <th></th>\n",
       "      <th>price</th>\n",
       "    </tr>\n",
       "  </thead>\n",
       "  <tbody>\n",
       "    <tr>\n",
       "      <th>count</th>\n",
       "      <td>60.000000</td>\n",
       "    </tr>\n",
       "    <tr>\n",
       "      <th>mean</th>\n",
       "      <td>379.264284</td>\n",
       "    </tr>\n",
       "    <tr>\n",
       "      <th>std</th>\n",
       "      <td>66.482256</td>\n",
       "    </tr>\n",
       "    <tr>\n",
       "      <th>min</th>\n",
       "      <td>300.000000</td>\n",
       "    </tr>\n",
       "    <tr>\n",
       "      <th>25%</th>\n",
       "      <td>341.022735</td>\n",
       "    </tr>\n",
       "    <tr>\n",
       "      <th>50%</th>\n",
       "      <td>360.004000</td>\n",
       "    </tr>\n",
       "    <tr>\n",
       "      <th>75%</th>\n",
       "      <td>394.021268</td>\n",
       "    </tr>\n",
       "    <tr>\n",
       "      <th>max</th>\n",
       "      <td>597.039803</td>\n",
       "    </tr>\n",
       "  </tbody>\n",
       "</table>\n",
       "</div>"
      ],
      "text/plain": [
       "            price\n",
       "count   60.000000\n",
       "mean   379.264284\n",
       "std     66.482256\n",
       "min    300.000000\n",
       "25%    341.022735\n",
       "50%    360.004000\n",
       "75%    394.021268\n",
       "max    597.039803"
      ]
     },
     "execution_count": 28,
     "metadata": {},
     "output_type": "execute_result"
    }
   ],
   "source": [
    "fares.describe()"
   ]
  },
  {
   "cell_type": "code",
   "execution_count": 29,
   "metadata": {},
   "outputs": [
    {
     "data": {
      "text/plain": [
       "<matplotlib.collections.PathCollection at 0x10b3756d8>"
      ]
     },
     "execution_count": 29,
     "metadata": {},
     "output_type": "execute_result"
    },
    {
     "data": {
      "image/png": "[encoded data removed]",
      "text/plain": [
       "<matplotlib.figure.Figure at 0x10444d1d0>"
      ]
     },
     "metadata": {},
     "output_type": "display_data"
    }
   ],
   "source": [
    "fig, ax = plt.subplots(figsize=(10,6))\n",
    "plt.scatter(np.arange(len(fares['price'])),fares['price'])"
   ]
  },
  {
   "cell_type": "code",
   "execution_count": 30,
   "metadata": {},
   "outputs": [],
   "source": [
    "px = [x for x in fares['price']]\n",
    "ff = pd.DataFrame(px, columns=['fare']).reset_index()"
   ]
  },
  {
   "cell_type": "code",
   "execution_count": 32,
   "metadata": {},
   "outputs": [],
   "source": [
    "from sklearn.cluster import DBSCAN\n",
    "from sklearn.preprocessing import StandardScaler\n",
    "\n",
    "X = StandardScaler().fit_transform(ff)\n",
    "db = DBSCAN(eps=.5, min_samples=1).fit(X)"
   ]
  },
  {
   "cell_type": "code",
   "execution_count": 33,
   "metadata": {},
   "outputs": [],
   "source": [
    "labels = db.labels_\n",
    "clusters = len(set(labels))\n",
    "unique_labels = set(labels)"
   ]
  },
  {
   "cell_type": "code",
   "execution_count": 82,
   "metadata": {},
   "outputs": [
    {
     "data": {
      "text/plain": [
       "<matplotlib.text.Text at 0x1a16e245f8>"
      ]
     },
     "execution_count": 82,
     "metadata": {},
     "output_type": "execute_result"
    },
    {
     "data": {
      "image/png": "[encoded data removed]",
      "text/plain": [
       "<matplotlib.figure.Figure at 0x1a179919e8>"
      ]
     },
     "metadata": {},
     "output_type": "display_data"
    }
   ],
   "source": [
    "plt.subplots(figsize=(12,8))\n",
    "for k in unique_labels:\n",
    "    class_member_mask = (labels == k)\n",
    "    xy = X[class_member_mask]\n",
    "    plt.plot(xy[:, 0], xy[:, 1],'o', markeredgecolor='k', markersize=14)\n",
    "plt.title(\"Total Clusters: {}\".format(clusters), fontsize=14, y=1.01)"
   ]
  },
  {
   "cell_type": "code",
   "execution_count": 83,
   "metadata": {},
   "outputs": [
    {
     "data": {
      "text/plain": [
       "350.0033335555704"
      ]
     },
     "execution_count": 83,
     "metadata": {},
     "output_type": "execute_result"
    }
   ],
   "source": [
    "px[10]"
   ]
  },
  {
   "cell_type": "code",
   "execution_count": 84,
   "metadata": {},
   "outputs": [],
   "source": [
    "def test_clusters(data_series, eps_val, swap_index, swap_value):\n",
    "    data_series[swap_index] = swap_value\n",
    "    ff = pd.DataFrame(data_series, columns=['fare']).reset_index()\n",
    "    X = StandardScaler().fit_transform(ff)\n",
    "    db = DBSCAN(eps=eps_val, min_samples=1).fit(X)\n",
    "\n",
    "    labels = db.labels_\n",
    "    clusters = len(set(labels))\n",
    "    unique_labels = set(labels)\n",
    "    \n",
    "    plt.subplots(figsize=(12,8))\n",
    "    \n",
    "    for k in unique_labels:\n",
    "        class_member_mask = (labels == k)\n",
    "        xy = X[class_member_mask]\n",
    "        plt.plot(xy[:, 0], xy[:, 1],'o', markeredgecolor='k', markersize=14)\n",
    "    plt.title(\"Total Clusters: {}\".format(clusters), fontsize=14, y=1.01)"
   ]
  },
  {
   "cell_type": "code",
   "execution_count": 87,
   "metadata": {},
   "outputs": [
    {
     "data": {
      "image/png": "[encoded data removed]",
      "text/plain": [
       "<matplotlib.figure.Figure at 0x1a166985f8>"
      ]
     },
     "metadata": {},
     "output_type": "display_data"
    }
   ],
   "source": [
    "test_clusters(px, 0.5 , 10, 400)"
   ]
  },
  {
   "cell_type": "code",
   "execution_count": 88,
   "metadata": {},
   "outputs": [
    {
     "data": {
      "image/png": "[encoded data removed]",
      "text/plain": [
       "<matplotlib.figure.Figure at 0x10b2bf160>"
      ]
     },
     "metadata": {},
     "output_type": "display_data"
    }
   ],
   "source": [
    "test_clusters(px, 1 , 10, 400)"
   ]
  },
  {
   "cell_type": "code",
   "execution_count": 89,
   "metadata": {},
   "outputs": [
    {
     "data": {
      "image/png": "[encoded data removed]",
      "text/plain": [
       "<matplotlib.figure.Figure at 0x10b319c88>"
      ]
     },
     "metadata": {},
     "output_type": "display_data"
    }
   ],
   "source": [
    "test_clusters(px, 1 , 10, 300)"
   ]
  },
  {
   "cell_type": "code",
   "execution_count": 90,
   "metadata": {},
   "outputs": [
    {
     "data": {
      "image/png": "[encoded data removed]",
      "text/plain": [
       "<matplotlib.figure.Figure at 0x1a16925048>"
      ]
     },
     "metadata": {},
     "output_type": "display_data"
    }
   ],
   "source": [
    "test_clusters(px, 1 , 10, 200)"
   ]
  },
  {
   "cell_type": "code",
   "execution_count": 91,
   "metadata": {},
   "outputs": [
    {
     "data": {
      "image/png": "[encoded data removed]",
      "text/plain": [
       "<matplotlib.figure.Figure at 0x1a169754e0>"
      ]
     },
     "metadata": {},
     "output_type": "display_data"
    }
   ],
   "source": [
    "test_clusters(px, 1.5 , 10, 200)"
   ]
  },
  {
   "cell_type": "code",
   "execution_count": 92,
   "metadata": {},
   "outputs": [
    {
     "data": {
      "text/plain": [
       "330.0020001333422"
      ]
     },
     "execution_count": 92,
     "metadata": {},
     "output_type": "execute_result"
    }
   ],
   "source": [
    "px[45]"
   ]
  },
  {
   "cell_type": "code",
   "execution_count": 93,
   "metadata": {},
   "outputs": [
    {
     "data": {
      "image/png": "[encoded data removed]",
      "text/plain": [
       "<matplotlib.figure.Figure at 0x1a179cc128>"
      ]
     },
     "metadata": {},
     "output_type": "display_data"
    }
   ],
   "source": [
    "test_clusters(px, 1.5 , 45, 230)"
   ]
  },
  {
   "cell_type": "code",
   "execution_count": 94,
   "metadata": {},
   "outputs": [
    {
     "data": {
      "text/plain": [
       "417.0278018534569"
      ]
     },
     "execution_count": 94,
     "metadata": {},
     "output_type": "execute_result"
    }
   ],
   "source": [
    "px[55]"
   ]
  },
  {
   "cell_type": "code",
   "execution_count": 95,
   "metadata": {},
   "outputs": [
    {
     "data": {
      "image/png": "[encoded data removed]",
      "text/plain": [
       "<matplotlib.figure.Figure at 0x1a166196d8>"
      ]
     },
     "metadata": {},
     "output_type": "display_data"
    }
   ],
   "source": [
    "test_clusters(px, 1 , 55 , 200)"
   ]
  },
  {
   "cell_type": "code",
   "execution_count": 96,
   "metadata": {},
   "outputs": [
    {
     "data": {
      "text/html": [
       "<div>\n",
       "<style scoped>\n",
       "    .dataframe tbody tr th:only-of-type {\n",
       "        vertical-align: middle;\n",
       "    }\n",
       "\n",
       "    .dataframe tbody tr th {\n",
       "        vertical-align: top;\n",
       "    }\n",
       "\n",
       "    .dataframe thead th {\n",
       "        text-align: right;\n",
       "    }\n",
       "</style>\n",
       "<table border=\"1\" class=\"dataframe\">\n",
       "  <thead>\n",
       "    <tr style=\"text-align: right;\">\n",
       "      <th></th>\n",
       "      <th>index</th>\n",
       "      <th>fare</th>\n",
       "      <th>cluster</th>\n",
       "    </tr>\n",
       "  </thead>\n",
       "  <tbody>\n",
       "    <tr>\n",
       "      <th>0</th>\n",
       "      <td>0</td>\n",
       "      <td>559.447296</td>\n",
       "      <td>0</td>\n",
       "    </tr>\n",
       "    <tr>\n",
       "      <th>1</th>\n",
       "      <td>1</td>\n",
       "      <td>550.046670</td>\n",
       "      <td>0</td>\n",
       "    </tr>\n",
       "    <tr>\n",
       "      <th>2</th>\n",
       "      <td>2</td>\n",
       "      <td>520.014668</td>\n",
       "      <td>0</td>\n",
       "    </tr>\n",
       "    <tr>\n",
       "      <th>3</th>\n",
       "      <td>3</td>\n",
       "      <td>410.007334</td>\n",
       "      <td>1</td>\n",
       "    </tr>\n",
       "    <tr>\n",
       "      <th>4</th>\n",
       "      <td>4</td>\n",
       "      <td>380.005334</td>\n",
       "      <td>1</td>\n",
       "    </tr>\n",
       "    <tr>\n",
       "      <th>5</th>\n",
       "      <td>5</td>\n",
       "      <td>350.003334</td>\n",
       "      <td>1</td>\n",
       "    </tr>\n",
       "    <tr>\n",
       "      <th>6</th>\n",
       "      <td>6</td>\n",
       "      <td>350.003334</td>\n",
       "      <td>1</td>\n",
       "    </tr>\n",
       "    <tr>\n",
       "      <th>7</th>\n",
       "      <td>7</td>\n",
       "      <td>400.006667</td>\n",
       "      <td>1</td>\n",
       "    </tr>\n",
       "    <tr>\n",
       "      <th>8</th>\n",
       "      <td>8</td>\n",
       "      <td>380.005334</td>\n",
       "      <td>1</td>\n",
       "    </tr>\n",
       "    <tr>\n",
       "      <th>9</th>\n",
       "      <td>9</td>\n",
       "      <td>350.003334</td>\n",
       "      <td>1</td>\n",
       "    </tr>\n",
       "    <tr>\n",
       "      <th>10</th>\n",
       "      <td>10</td>\n",
       "      <td>350.003334</td>\n",
       "      <td>1</td>\n",
       "    </tr>\n",
       "    <tr>\n",
       "      <th>11</th>\n",
       "      <td>11</td>\n",
       "      <td>341.022735</td>\n",
       "      <td>1</td>\n",
       "    </tr>\n",
       "    <tr>\n",
       "      <th>12</th>\n",
       "      <td>12</td>\n",
       "      <td>392.026135</td>\n",
       "      <td>1</td>\n",
       "    </tr>\n",
       "    <tr>\n",
       "      <th>13</th>\n",
       "      <td>13</td>\n",
       "      <td>368.024535</td>\n",
       "      <td>1</td>\n",
       "    </tr>\n",
       "    <tr>\n",
       "      <th>14</th>\n",
       "      <td>14</td>\n",
       "      <td>360.004000</td>\n",
       "      <td>1</td>\n",
       "    </tr>\n",
       "    <tr>\n",
       "      <th>15</th>\n",
       "      <td>15</td>\n",
       "      <td>330.002000</td>\n",
       "      <td>1</td>\n",
       "    </tr>\n",
       "    <tr>\n",
       "      <th>16</th>\n",
       "      <td>16</td>\n",
       "      <td>360.004000</td>\n",
       "      <td>1</td>\n",
       "    </tr>\n",
       "    <tr>\n",
       "      <th>17</th>\n",
       "      <td>17</td>\n",
       "      <td>360.004000</td>\n",
       "      <td>1</td>\n",
       "    </tr>\n",
       "    <tr>\n",
       "      <th>18</th>\n",
       "      <td>18</td>\n",
       "      <td>341.022735</td>\n",
       "      <td>1</td>\n",
       "    </tr>\n",
       "    <tr>\n",
       "      <th>19</th>\n",
       "      <td>19</td>\n",
       "      <td>300.000000</td>\n",
       "      <td>1</td>\n",
       "    </tr>\n",
       "    <tr>\n",
       "      <th>20</th>\n",
       "      <td>20</td>\n",
       "      <td>341.022735</td>\n",
       "      <td>1</td>\n",
       "    </tr>\n",
       "    <tr>\n",
       "      <th>21</th>\n",
       "      <td>21</td>\n",
       "      <td>330.002000</td>\n",
       "      <td>1</td>\n",
       "    </tr>\n",
       "    <tr>\n",
       "      <th>22</th>\n",
       "      <td>22</td>\n",
       "      <td>330.002000</td>\n",
       "      <td>1</td>\n",
       "    </tr>\n",
       "    <tr>\n",
       "      <th>23</th>\n",
       "      <td>23</td>\n",
       "      <td>330.002000</td>\n",
       "      <td>1</td>\n",
       "    </tr>\n",
       "    <tr>\n",
       "      <th>24</th>\n",
       "      <td>24</td>\n",
       "      <td>330.002000</td>\n",
       "      <td>1</td>\n",
       "    </tr>\n",
       "    <tr>\n",
       "      <th>25</th>\n",
       "      <td>25</td>\n",
       "      <td>350.003334</td>\n",
       "      <td>1</td>\n",
       "    </tr>\n",
       "    <tr>\n",
       "      <th>26</th>\n",
       "      <td>26</td>\n",
       "      <td>350.003334</td>\n",
       "      <td>1</td>\n",
       "    </tr>\n",
       "    <tr>\n",
       "      <th>27</th>\n",
       "      <td>27</td>\n",
       "      <td>341.022735</td>\n",
       "      <td>1</td>\n",
       "    </tr>\n",
       "    <tr>\n",
       "      <th>28</th>\n",
       "      <td>28</td>\n",
       "      <td>300.000000</td>\n",
       "      <td>2</td>\n",
       "    </tr>\n",
       "    <tr>\n",
       "      <th>29</th>\n",
       "      <td>29</td>\n",
       "      <td>300.000000</td>\n",
       "      <td>2</td>\n",
       "    </tr>\n",
       "    <tr>\n",
       "      <th>30</th>\n",
       "      <td>30</td>\n",
       "      <td>389.025935</td>\n",
       "      <td>3</td>\n",
       "    </tr>\n",
       "    <tr>\n",
       "      <th>31</th>\n",
       "      <td>31</td>\n",
       "      <td>413.027535</td>\n",
       "      <td>3</td>\n",
       "    </tr>\n",
       "    <tr>\n",
       "      <th>32</th>\n",
       "      <td>32</td>\n",
       "      <td>473.031535</td>\n",
       "      <td>3</td>\n",
       "    </tr>\n",
       "    <tr>\n",
       "      <th>33</th>\n",
       "      <td>33</td>\n",
       "      <td>512.724182</td>\n",
       "      <td>3</td>\n",
       "    </tr>\n",
       "    <tr>\n",
       "      <th>34</th>\n",
       "      <td>34</td>\n",
       "      <td>416.027735</td>\n",
       "      <td>3</td>\n",
       "    </tr>\n",
       "    <tr>\n",
       "      <th>35</th>\n",
       "      <td>35</td>\n",
       "      <td>597.039803</td>\n",
       "      <td>4</td>\n",
       "    </tr>\n",
       "    <tr>\n",
       "      <th>36</th>\n",
       "      <td>36</td>\n",
       "      <td>482.032135</td>\n",
       "      <td>3</td>\n",
       "    </tr>\n",
       "    <tr>\n",
       "      <th>37</th>\n",
       "      <td>37</td>\n",
       "      <td>440.029335</td>\n",
       "      <td>3</td>\n",
       "    </tr>\n",
       "    <tr>\n",
       "      <th>38</th>\n",
       "      <td>38</td>\n",
       "      <td>463.840923</td>\n",
       "      <td>3</td>\n",
       "    </tr>\n",
       "    <tr>\n",
       "      <th>39</th>\n",
       "      <td>39</td>\n",
       "      <td>437.029135</td>\n",
       "      <td>3</td>\n",
       "    </tr>\n",
       "    <tr>\n",
       "      <th>40</th>\n",
       "      <td>40</td>\n",
       "      <td>341.022735</td>\n",
       "      <td>5</td>\n",
       "    </tr>\n",
       "    <tr>\n",
       "      <th>41</th>\n",
       "      <td>41</td>\n",
       "      <td>392.026135</td>\n",
       "      <td>5</td>\n",
       "    </tr>\n",
       "    <tr>\n",
       "      <th>42</th>\n",
       "      <td>42</td>\n",
       "      <td>350.003334</td>\n",
       "      <td>5</td>\n",
       "    </tr>\n",
       "    <tr>\n",
       "      <th>43</th>\n",
       "      <td>43</td>\n",
       "      <td>341.022735</td>\n",
       "      <td>5</td>\n",
       "    </tr>\n",
       "    <tr>\n",
       "      <th>44</th>\n",
       "      <td>44</td>\n",
       "      <td>300.000000</td>\n",
       "      <td>5</td>\n",
       "    </tr>\n",
       "    <tr>\n",
       "      <th>45</th>\n",
       "      <td>45</td>\n",
       "      <td>330.002000</td>\n",
       "      <td>5</td>\n",
       "    </tr>\n",
       "    <tr>\n",
       "      <th>46</th>\n",
       "      <td>46</td>\n",
       "      <td>300.000000</td>\n",
       "      <td>5</td>\n",
       "    </tr>\n",
       "    <tr>\n",
       "      <th>47</th>\n",
       "      <td>47</td>\n",
       "      <td>341.022735</td>\n",
       "      <td>5</td>\n",
       "    </tr>\n",
       "    <tr>\n",
       "      <th>48</th>\n",
       "      <td>48</td>\n",
       "      <td>367.024468</td>\n",
       "      <td>5</td>\n",
       "    </tr>\n",
       "    <tr>\n",
       "      <th>49</th>\n",
       "      <td>49</td>\n",
       "      <td>391.026068</td>\n",
       "      <td>5</td>\n",
       "    </tr>\n",
       "    <tr>\n",
       "      <th>50</th>\n",
       "      <td>50</td>\n",
       "      <td>341.022735</td>\n",
       "      <td>5</td>\n",
       "    </tr>\n",
       "    <tr>\n",
       "      <th>51</th>\n",
       "      <td>51</td>\n",
       "      <td>341.022735</td>\n",
       "      <td>5</td>\n",
       "    </tr>\n",
       "    <tr>\n",
       "      <th>52</th>\n",
       "      <td>52</td>\n",
       "      <td>380.005334</td>\n",
       "      <td>5</td>\n",
       "    </tr>\n",
       "    <tr>\n",
       "      <th>53</th>\n",
       "      <td>53</td>\n",
       "      <td>341.022735</td>\n",
       "      <td>5</td>\n",
       "    </tr>\n",
       "    <tr>\n",
       "      <th>54</th>\n",
       "      <td>54</td>\n",
       "      <td>367.024468</td>\n",
       "      <td>5</td>\n",
       "    </tr>\n",
       "    <tr>\n",
       "      <th>55</th>\n",
       "      <td>55</td>\n",
       "      <td>417.027802</td>\n",
       "      <td>5</td>\n",
       "    </tr>\n",
       "    <tr>\n",
       "      <th>56</th>\n",
       "      <td>56</td>\n",
       "      <td>391.026068</td>\n",
       "      <td>5</td>\n",
       "    </tr>\n",
       "    <tr>\n",
       "      <th>57</th>\n",
       "      <td>57</td>\n",
       "      <td>367.024468</td>\n",
       "      <td>5</td>\n",
       "    </tr>\n",
       "    <tr>\n",
       "      <th>58</th>\n",
       "      <td>58</td>\n",
       "      <td>300.000000</td>\n",
       "      <td>6</td>\n",
       "    </tr>\n",
       "    <tr>\n",
       "      <th>59</th>\n",
       "      <td>59</td>\n",
       "      <td>380.005334</td>\n",
       "      <td>5</td>\n",
       "    </tr>\n",
       "  </tbody>\n",
       "</table>\n",
       "</div>"
      ],
      "text/plain": [
       "    index        fare  cluster\n",
       "0       0  559.447296        0\n",
       "1       1  550.046670        0\n",
       "2       2  520.014668        0\n",
       "3       3  410.007334        1\n",
       "4       4  380.005334        1\n",
       "5       5  350.003334        1\n",
       "6       6  350.003334        1\n",
       "7       7  400.006667        1\n",
       "8       8  380.005334        1\n",
       "9       9  350.003334        1\n",
       "10     10  350.003334        1\n",
       "11     11  341.022735        1\n",
       "12     12  392.026135        1\n",
       "13     13  368.024535        1\n",
       "14     14  360.004000        1\n",
       "15     15  330.002000        1\n",
       "16     16  360.004000        1\n",
       "17     17  360.004000        1\n",
       "18     18  341.022735        1\n",
       "19     19  300.000000        1\n",
       "20     20  341.022735        1\n",
       "21     21  330.002000        1\n",
       "22     22  330.002000        1\n",
       "23     23  330.002000        1\n",
       "24     24  330.002000        1\n",
       "25     25  350.003334        1\n",
       "26     26  350.003334        1\n",
       "27     27  341.022735        1\n",
       "28     28  300.000000        2\n",
       "29     29  300.000000        2\n",
       "30     30  389.025935        3\n",
       "31     31  413.027535        3\n",
       "32     32  473.031535        3\n",
       "33     33  512.724182        3\n",
       "34     34  416.027735        3\n",
       "35     35  597.039803        4\n",
       "36     36  482.032135        3\n",
       "37     37  440.029335        3\n",
       "38     38  463.840923        3\n",
       "39     39  437.029135        3\n",
       "40     40  341.022735        5\n",
       "41     41  392.026135        5\n",
       "42     42  350.003334        5\n",
       "43     43  341.022735        5\n",
       "44     44  300.000000        5\n",
       "45     45  330.002000        5\n",
       "46     46  300.000000        5\n",
       "47     47  341.022735        5\n",
       "48     48  367.024468        5\n",
       "49     49  391.026068        5\n",
       "50     50  341.022735        5\n",
       "51     51  341.022735        5\n",
       "52     52  380.005334        5\n",
       "53     53  341.022735        5\n",
       "54     54  367.024468        5\n",
       "55     55  417.027802        5\n",
       "56     56  391.026068        5\n",
       "57     57  367.024468        5\n",
       "58     58  300.000000        6\n",
       "59     59  380.005334        5"
      ]
     },
     "execution_count": 96,
     "metadata": {},
     "output_type": "execute_result"
    }
   ],
   "source": [
    "pf = pd.concat([ff, pd.DataFrame(db.labels_,columns=['cluster'])], axis=1)\n",
    "pf"
   ]
  },
  {
   "cell_type": "code",
   "execution_count": 97,
   "metadata": {},
   "outputs": [
    {
     "data": {
      "text/html": [
       "<div>\n",
       "<style scoped>\n",
       "    .dataframe tbody tr th:only-of-type {\n",
       "        vertical-align: middle;\n",
       "    }\n",
       "\n",
       "    .dataframe tbody tr th {\n",
       "        vertical-align: top;\n",
       "    }\n",
       "\n",
       "    .dataframe thead th {\n",
       "        text-align: right;\n",
       "    }\n",
       "</style>\n",
       "<table border=\"1\" class=\"dataframe\">\n",
       "  <thead>\n",
       "    <tr style=\"text-align: right;\">\n",
       "      <th></th>\n",
       "      <th>min</th>\n",
       "      <th>count</th>\n",
       "    </tr>\n",
       "    <tr>\n",
       "      <th>cluster</th>\n",
       "      <th></th>\n",
       "      <th></th>\n",
       "    </tr>\n",
       "  </thead>\n",
       "  <tbody>\n",
       "    <tr>\n",
       "      <th>0</th>\n",
       "      <td>520.014668</td>\n",
       "      <td>3</td>\n",
       "    </tr>\n",
       "    <tr>\n",
       "      <th>1</th>\n",
       "      <td>300.000000</td>\n",
       "      <td>25</td>\n",
       "    </tr>\n",
       "    <tr>\n",
       "      <th>2</th>\n",
       "      <td>300.000000</td>\n",
       "      <td>2</td>\n",
       "    </tr>\n",
       "    <tr>\n",
       "      <th>3</th>\n",
       "      <td>389.025935</td>\n",
       "      <td>9</td>\n",
       "    </tr>\n",
       "    <tr>\n",
       "      <th>4</th>\n",
       "      <td>597.039803</td>\n",
       "      <td>1</td>\n",
       "    </tr>\n",
       "    <tr>\n",
       "      <th>5</th>\n",
       "      <td>300.000000</td>\n",
       "      <td>19</td>\n",
       "    </tr>\n",
       "    <tr>\n",
       "      <th>6</th>\n",
       "      <td>300.000000</td>\n",
       "      <td>1</td>\n",
       "    </tr>\n",
       "  </tbody>\n",
       "</table>\n",
       "</div>"
      ],
      "text/plain": [
       "                min  count\n",
       "cluster                   \n",
       "0        520.014668      3\n",
       "1        300.000000     25\n",
       "2        300.000000      2\n",
       "3        389.025935      9\n",
       "4        597.039803      1\n",
       "5        300.000000     19\n",
       "6        300.000000      1"
      ]
     },
     "execution_count": 97,
     "metadata": {},
     "output_type": "execute_result"
    }
   ],
   "source": [
    "rf = pf.groupby('cluster')['fare'].agg(['min','count'])\n",
    "rf"
   ]
  },
  {
   "cell_type": "code",
   "execution_count": 98,
   "metadata": {},
   "outputs": [
    {
     "data": {
      "text/html": [
       "<div>\n",
       "<style scoped>\n",
       "    .dataframe tbody tr th:only-of-type {\n",
       "        vertical-align: middle;\n",
       "    }\n",
       "\n",
       "    .dataframe tbody tr th {\n",
       "        vertical-align: top;\n",
       "    }\n",
       "\n",
       "    .dataframe thead th {\n",
       "        text-align: right;\n",
       "    }\n",
       "</style>\n",
       "<table border=\"1\" class=\"dataframe\">\n",
       "  <thead>\n",
       "    <tr style=\"text-align: right;\">\n",
       "      <th></th>\n",
       "      <th>min</th>\n",
       "      <th>count</th>\n",
       "    </tr>\n",
       "  </thead>\n",
       "  <tbody>\n",
       "    <tr>\n",
       "      <th>count</th>\n",
       "      <td>7.000000</td>\n",
       "      <td>7.000000</td>\n",
       "    </tr>\n",
       "    <tr>\n",
       "      <th>mean</th>\n",
       "      <td>386.582915</td>\n",
       "      <td>8.571429</td>\n",
       "    </tr>\n",
       "    <tr>\n",
       "      <th>std</th>\n",
       "      <td>123.887386</td>\n",
       "      <td>9.727232</td>\n",
       "    </tr>\n",
       "    <tr>\n",
       "      <th>min</th>\n",
       "      <td>300.000000</td>\n",
       "      <td>1.000000</td>\n",
       "    </tr>\n",
       "    <tr>\n",
       "      <th>25%</th>\n",
       "      <td>300.000000</td>\n",
       "      <td>1.500000</td>\n",
       "    </tr>\n",
       "    <tr>\n",
       "      <th>50%</th>\n",
       "      <td>300.000000</td>\n",
       "      <td>3.000000</td>\n",
       "    </tr>\n",
       "    <tr>\n",
       "      <th>75%</th>\n",
       "      <td>454.520301</td>\n",
       "      <td>14.000000</td>\n",
       "    </tr>\n",
       "    <tr>\n",
       "      <th>max</th>\n",
       "      <td>597.039803</td>\n",
       "      <td>25.000000</td>\n",
       "    </tr>\n",
       "  </tbody>\n",
       "</table>\n",
       "</div>"
      ],
      "text/plain": [
       "              min      count\n",
       "count    7.000000   7.000000\n",
       "mean   386.582915   8.571429\n",
       "std    123.887386   9.727232\n",
       "min    300.000000   1.000000\n",
       "25%    300.000000   1.500000\n",
       "50%    300.000000   3.000000\n",
       "75%    454.520301  14.000000\n",
       "max    597.039803  25.000000"
      ]
     },
     "execution_count": 98,
     "metadata": {},
     "output_type": "execute_result"
    }
   ],
   "source": [
    "rf.describe()"
   ]
  },
  {
   "cell_type": "code",
   "execution_count": 100,
   "metadata": {},
   "outputs": [],
   "source": [
    "import schedule \n",
    "import time"
   ]
  },
  {
   "cell_type": "code",
   "execution_count": null,
   "metadata": {},
   "outputs": [],
   "source": []
  }
 ],
 "metadata": {
  "anaconda-cloud": {},
  "kernelspec": {
   "display_name": "Python [conda root]",
   "language": "python",
   "name": "conda-root-py"
  },
  "language_info": {
   "codemirror_mode": {
    "name": "ipython",
    "version": 3
   },
   "file_extension": ".py",
   "mimetype": "text/x-python",
   "name": "python",
   "nbconvert_exporter": "python",
   "pygments_lexer": "ipython3",
   "version": "3.5.2"
  }
 },
 "nbformat": 4,
 "nbformat_minor": 2
}
